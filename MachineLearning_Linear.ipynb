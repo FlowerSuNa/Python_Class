{
 "cells": [
  {
   "cell_type": "markdown",
   "metadata": {},
   "source": [
    "# Linear"
   ]
  },
  {
   "cell_type": "markdown",
   "metadata": {},
   "source": [
    "참고 : 파이썬 라이브러리를 활용한 머신러닝"
   ]
  },
  {
   "cell_type": "markdown",
   "metadata": {},
   "source": [
    "##### 라이브러리 불러오기"
   ]
  },
  {
   "cell_type": "code",
   "execution_count": 1,
   "metadata": {},
   "outputs": [],
   "source": [
    "import matplotlib.pyplot as plt"
   ]
  },
  {
   "cell_type": "code",
   "execution_count": 2,
   "metadata": {},
   "outputs": [],
   "source": [
    "from sklearn.datasets import load_boston\n",
    "from sklearn.model_selection import train_test_split\n",
    "from sklearn.linear_model import LinearRegression, Ridge, Lasso"
   ]
  },
  {
   "cell_type": "markdown",
   "metadata": {},
   "source": [
    "##### 데이터 불러오기"
   ]
  },
  {
   "cell_type": "code",
   "execution_count": 3,
   "metadata": {},
   "outputs": [],
   "source": [
    "boston = load_boston()\n",
    "X = boston.data\n",
    "y = boston.target"
   ]
  },
  {
   "cell_type": "markdown",
   "metadata": {},
   "source": [
    "##### 데이터 나누기"
   ]
  },
  {
   "cell_type": "code",
   "execution_count": 4,
   "metadata": {},
   "outputs": [],
   "source": [
    "X_train, X_test, y_train, y_test = train_test_split(X, y, random_state=1)"
   ]
  },
  {
   "cell_type": "markdown",
   "metadata": {},
   "source": [
    "## Linear Regression"
   ]
  },
  {
   "cell_type": "code",
   "execution_count": 5,
   "metadata": {},
   "outputs": [
    {
     "data": {
      "text/plain": [
       "LinearRegression(copy_X=True, fit_intercept=True, n_jobs=1, normalize=False)"
      ]
     },
     "execution_count": 5,
     "metadata": {},
     "output_type": "execute_result"
    }
   ],
   "source": [
    "lr = LinearRegression()\n",
    "lr.fit(X_train, y_train)"
   ]
  },
  {
   "cell_type": "code",
   "execution_count": 6,
   "metadata": {},
   "outputs": [
    {
     "name": "stdout",
     "output_type": "stream",
     "text": [
      "train score : 0.72\n",
      "test score : 0.78\n"
     ]
    }
   ],
   "source": [
    "print('train score : {:.2f}'.format(lr.score(X_train, y_train)))\n",
    "print('test score : {:.2f}'.format(lr.score(X_test, y_test)))"
   ]
  },
  {
   "cell_type": "markdown",
   "metadata": {},
   "source": [
    "## Ridge\n",
    "> #### L2 규제 <br>\n",
    "> 가중치의 절대값을 가능한 한 작게 만든다. <br>\n",
    "> 모든 특성이 주는 영향을 최소한으로 만든다. (기울기를 작게 만든다.) <br>"
   ]
  },
  {
   "cell_type": "markdown",
   "metadata": {},
   "source": [
    "### parameter\n",
    "* alpha : 모델을 얼마나 단순화할지 지정,\n",
    "> 기본값 1.0 <br>\n",
    "> 값을 높이면 계수가 0에 더 가까워진다."
   ]
  },
  {
   "cell_type": "code",
   "execution_count": 7,
   "metadata": {},
   "outputs": [
    {
     "name": "stdout",
     "output_type": "stream",
     "text": [
      "When alpha = 0.001:\n",
      "train score : 0.72\n",
      "test score : 0.78\n",
      "\n",
      "When alpha = 0.01:\n",
      "train score : 0.72\n",
      "test score : 0.78\n",
      "\n",
      "When alpha = 0.1:\n",
      "train score : 0.72\n",
      "test score : 0.78\n",
      "\n",
      "When alpha = 1:\n",
      "train score : 0.71\n",
      "test score : 0.78\n",
      "\n",
      "When alpha = 10:\n",
      "train score : 0.70\n",
      "test score : 0.78\n",
      "\n",
      "When alpha = 100:\n",
      "train score : 0.69\n",
      "test score : 0.74\n",
      "\n"
     ]
    }
   ],
   "source": [
    "for a in [0.001,0.01,0.1,1,10,100]:\n",
    "    print(\"When alpha = {}:\".format(a))\n",
    "    ridge = Ridge(alpha=a)\n",
    "    ridge.fit(X_train, y_train)\n",
    "\n",
    "    print(\"train score : {:.2f}\".format(ridge.score(X_train, y_train)))\n",
    "    print(\"test score : {:.2f}\\n\".format(ridge.score(X_test, y_test)))"
   ]
  },
  {
   "cell_type": "code",
   "execution_count": 8,
   "metadata": {},
   "outputs": [
    {
     "data": {
      "image/png": "[encoded data removed]",
      "text/plain": [
       "<matplotlib.figure.Figure at 0x18e9267c240>"
      ]
     },
     "metadata": {},
     "output_type": "display_data"
    }
   ],
   "source": [
    "def coef_graph(X_train, y_train, a):\n",
    "    ridge = Ridge(alpha=a)\n",
    "    ridge.fit(X_train, y_train)    \n",
    "    plt.plot(ridge.coef_, \"^\", label=\"Ridge alpha=\"+str(a))\n",
    "\n",
    "plt.plot(lr.coef_, \"o\", label=\"Linear Regression\")\n",
    "\n",
    "coef_graph(X_train, y_train, 0.1)\n",
    "coef_graph(X_train, y_train, 1)\n",
    "coef_graph(X_train, y_train, 10)\n",
    "\n",
    "plt.xlabel(\"coef list\")\n",
    "plt.ylabel(\"coef\")\n",
    "plt.hlines(0, 0, len(lr.coef_))\n",
    "plt.ylim(-25, 25)\n",
    "plt.legend()\n",
    "plt.show()"
   ]
  },
  {
   "cell_type": "markdown",
   "metadata": {},
   "source": [
    "## Lasso\n",
    "> #### L1 규제\n",
    "> 계수를 0에 가깝게 만들고, 어떤 계수는 0이 된다. <br>\n",
    "> 특성 선택이 이루어진다."
   ]
  },
  {
   "cell_type": "markdown",
   "metadata": {},
   "source": [
    "### parameter\n",
    "* alpha : 모델을 얼마나 단순화할지 지정,\n",
    "> 기본값 1.0 <br>\n",
    "> 값을 높이면 계수가 0에 더 가까워진다."
   ]
  },
  {
   "cell_type": "code",
   "execution_count": 9,
   "metadata": {},
   "outputs": [
    {
     "name": "stdout",
     "output_type": "stream",
     "text": [
      "When alpha = 0.001:\n",
      "train score : 0.72\n",
      "test score : 0.78\n",
      "\n",
      "When alpha = 0.01:\n",
      "train score : 0.72\n",
      "test score : 0.78\n",
      "\n",
      "When alpha = 0.1:\n",
      "train score : 0.70\n",
      "test score : 0.77\n",
      "\n",
      "When alpha = 1:\n",
      "train score : 0.65\n",
      "test score : 0.66\n",
      "\n",
      "When alpha = 10:\n",
      "train score : 0.53\n",
      "test score : 0.50\n",
      "\n",
      "When alpha = 100:\n",
      "train score : 0.20\n",
      "test score : 0.24\n",
      "\n"
     ]
    }
   ],
   "source": [
    "for a in [0.001,0.01,0.1,1,10,100]:\n",
    "    print(\"When alpha = {}:\".format(a))\n",
    "    lasso = Lasso(alpha=a)\n",
    "    lasso.fit(X_train, y_train)\n",
    "\n",
    "    print(\"train score : {:.2f}\".format(lasso.score(X_train, y_train)))\n",
    "    print(\"test score : {:.2f}\\n\".format(lasso.score(X_test, y_test)))"
   ]
  },
  {
   "cell_type": "code",
   "execution_count": 10,
   "metadata": {},
   "outputs": [
    {
     "data": {
      "image/png": "[encoded data removed]",
      "text/plain": [
       "<matplotlib.figure.Figure at 0x18e92744c88>"
      ]
     },
     "metadata": {},
     "output_type": "display_data"
    }
   ],
   "source": [
    "def coef_graph(X_train, y_train, a):\n",
    "    lasso = Lasso(alpha=a)\n",
    "    lasso.fit(X_train, y_train)    \n",
    "    plt.plot(lasso.coef_, \"^\", label=\"Lasso alpha=\"+str(a))\n",
    "\n",
    "plt.plot(lr.coef_, \"o\", label=\"Linear Regression\")\n",
    "\n",
    "coef_graph(X_train, y_train, 0.1)\n",
    "coef_graph(X_train, y_train, 1)\n",
    "coef_graph(X_train, y_train, 10)\n",
    "\n",
    "plt.xlabel(\"coef list\")\n",
    "plt.ylabel(\"coef\")\n",
    "plt.hlines(0, 0, len(lr.coef_))\n",
    "plt.ylim(-25, 25)\n",
    "plt.legend()\n",
    "plt.show()"
   ]
  },
  {
   "cell_type": "markdown",
   "metadata": {},
   "source": [
    "> 보통 Lasso 보다 Ridge 선호 <br>\n",
    "> 특성이 많고 그중 일부분만 중요하다면 Lasso 선택 <br>\n",
    "> 분석하기 쉬운 모델을 원하면 Lasso 선택 <br>"
   ]
  }
 ],
 "metadata": {
  "kernelspec": {
   "display_name": "Python 3",
   "language": "python",
   "name": "python3"
  },
  "language_info": {
   "codemirror_mode": {
    "name": "ipython",
    "version": 3
   },
   "file_extension": ".py",
   "mimetype": "text/x-python",
   "name": "python",
   "nbconvert_exporter": "python",
   "pygments_lexer": "ipython3",
   "version": "3.6.4"
  }
 },
 "nbformat": 4,
 "nbformat_minor": 2
}
