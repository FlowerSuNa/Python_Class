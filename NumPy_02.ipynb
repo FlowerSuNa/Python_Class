{
 "cells": [
  {
   "cell_type": "markdown",
   "metadata": {},
   "source": [
    "# NumPy"
   ]
  },
  {
   "cell_type": "markdown",
   "metadata": {},
   "source": [
    "참고 : 파이 데이터 사이언스 핸드북 58p-72p"
   ]
  },
  {
   "cell_type": "code",
   "execution_count": 1,
   "metadata": {},
   "outputs": [],
   "source": [
    "import numpy as np"
   ]
  },
  {
   "cell_type": "markdown",
   "metadata": {},
   "source": [
    "### 유니버설 함수 (UFuncs)"
   ]
  },
  {
   "cell_type": "code",
   "execution_count": 2,
   "metadata": {},
   "outputs": [
    {
     "name": "stdout",
     "output_type": "stream",
     "text": [
      "x =  [0 1 2 3]\n",
      "x + 5 =  [5 6 7 8]\n",
      "x - 5 =  [-5 -4 -3 -2]\n",
      "x * 2 =  [0 2 4 6]\n",
      "x / 2 =  [0.  0.5 1.  1.5]\n",
      "x // 2 =  [0 0 1 1]\n",
      "x % 2 =  [0 1 0 1]\n",
      "x ** 2 =  [0 1 4 9]\n",
      "-x =  [ 0 -1 -2 -3]\n"
     ]
    }
   ],
   "source": [
    "x = np.arange(4)\n",
    "print('x = ', x)\n",
    "print('x + 5 = ', x+5)\n",
    "print('x - 5 = ', x-5)\n",
    "print('x * 2 = ', x*2)\n",
    "print('x / 2 = ', x/2)\n",
    "print('x // 2 = ', x//2) # 몫\n",
    "print('x % 2 = ', x%2)   # 나머지\n",
    "print('x ** 2 = ', x**2) # 지수\n",
    "print('-x = ', -x)"
   ]
  },
  {
   "cell_type": "markdown",
   "metadata": {},
   "source": [
    "산술 연산 함수\n",
    "> .add() <br>\n",
    "> .subtract() <br>\n",
    "> .multiply() <br>\n",
    "> .divide() <br>\n",
    "> .floor_divide() <br>\n",
    "> .mod() <br>\n",
    "> .power() <br>\n",
    "> .negative()"
   ]
  },
  {
   "cell_type": "code",
   "execution_count": 3,
   "metadata": {},
   "outputs": [
    {
     "name": "stdout",
     "output_type": "stream",
     "text": [
      "x =  [0 1 2 3]\n",
      "x + 5 =  [5 6 7 8]\n",
      "x - 5 =  [-5 -4 -3 -2]\n",
      "x * 2 =  [0 2 4 6]\n",
      "x / 2 =  [0.  0.5 1.  1.5]\n",
      "x // 2 =  [0 0 1 1]\n",
      "x % 2 =  [0 1 0 1]\n",
      "x ** 2 =  [0 1 4 9]\n",
      "-x =  [ 0 -1 -2 -3]\n"
     ]
    }
   ],
   "source": [
    "print('x = ', x)\n",
    "print('x + 5 = ', np.add(x,5))\n",
    "print('x - 5 = ', np.subtract(x,5))\n",
    "print('x * 2 = ', np.multiply(x,2))\n",
    "print('x / 2 = ', np.divide(x,2))\n",
    "print('x // 2 = ', np.floor_divide(x,2))\n",
    "print('x % 2 = ', np.mod(x,2))\n",
    "print('x ** 2 = ', np.power(x,2))\n",
    "print('-x = ', np.negative(x))"
   ]
  },
  {
   "cell_type": "markdown",
   "metadata": {},
   "source": [
    "절대값 함수\n",
    "> abs() <br>\n",
    "> .absolute() <br>\n",
    "> .abs()"
   ]
  },
  {
   "cell_type": "code",
   "execution_count": 4,
   "metadata": {},
   "outputs": [
    {
     "name": "stdout",
     "output_type": "stream",
     "text": [
      "[2 1 0 1 2]\n",
      "[2 1 0 1 2]\n",
      "[2 1 0 1 2]\n"
     ]
    }
   ],
   "source": [
    "x = np.array([-2,-1,0,1,2])\n",
    "print(abs(x))\n",
    "print(np.absolute(x))\n",
    "print(np.abs(x))"
   ]
  },
  {
   "cell_type": "markdown",
   "metadata": {},
   "source": [
    "삼각함수\n",
    "> .sin() <br>\n",
    "> .cos() <br>\n",
    "> .tan() <br>\n",
    "> .arcsin() <br>\n",
    "> .arccos() <br>\n",
    "> .arctan()"
   ]
  },
  {
   "cell_type": "code",
   "execution_count": 5,
   "metadata": {},
   "outputs": [
    {
     "name": "stdout",
     "output_type": "stream",
     "text": [
      "theta =  [0.         1.57079633 3.14159265]\n",
      "sin(theta) =  [0.0000000e+00 1.0000000e+00 1.2246468e-16]\n",
      "cos(theta) =  [ 1.000000e+00  6.123234e-17 -1.000000e+00]\n",
      "tan(theta) =  [ 0.00000000e+00  1.63312394e+16 -1.22464680e-16]\n"
     ]
    }
   ],
   "source": [
    "theta = np.linspace(0, np.pi, 3)\n",
    "print('theta = ', theta)\n",
    "print('sin(theta) = ', np.sin(theta))\n",
    "print('cos(theta) = ', np.cos(theta))\n",
    "print('tan(theta) = ', np.tan(theta))"
   ]
  },
  {
   "cell_type": "code",
   "execution_count": 6,
   "metadata": {},
   "outputs": [
    {
     "name": "stdout",
     "output_type": "stream",
     "text": [
      "x =  [-1, 0, 1]\n",
      "arcsin(x) =  [-1.57079633  0.          1.57079633]\n",
      "arccos(x) =  [3.14159265 1.57079633 0.        ]\n",
      "arctan(x) =  [-0.78539816  0.          0.78539816]\n"
     ]
    }
   ],
   "source": [
    "x = [-1,0,1]\n",
    "print('x = ', x)\n",
    "print('arcsin(x) = ', np.arcsin(x))\n",
    "print('arccos(x) = ', np.arccos(x))\n",
    "print('arctan(x) = ', np.arctan(x))"
   ]
  },
  {
   "cell_type": "markdown",
   "metadata": {},
   "source": [
    "지수와 로그\n",
    "> .exp() <br>\n",
    "> .exp2() <br>\n",
    "> .power()"
   ]
  },
  {
   "cell_type": "code",
   "execution_count": 7,
   "metadata": {},
   "outputs": [
    {
     "name": "stdout",
     "output_type": "stream",
     "text": [
      "x =  [1, 2, 3]\n",
      "e^x =  [ 2.71828183  7.3890561  20.08553692]\n",
      "2^x =  [2. 4. 8.]\n",
      "3^x =  [ 3  9 27]\n"
     ]
    }
   ],
   "source": [
    "x = [1,2,3]\n",
    "print('x = ', x)\n",
    "print('e^x = ', np.exp(x))\n",
    "print('2^x = ', np.exp2(x))\n",
    "print('3^x = ', np.power(3,x))"
   ]
  },
  {
   "cell_type": "code",
   "execution_count": 8,
   "metadata": {},
   "outputs": [
    {
     "name": "stdout",
     "output_type": "stream",
     "text": [
      "x =  [1, 2, 4, 10]\n",
      "ln x =  [0.         0.69314718 1.38629436 2.30258509]\n",
      "log2 x =  [0.         1.         2.         3.32192809]\n",
      "log10 x =  [0.         0.30103    0.60205999 1.        ]\n"
     ]
    }
   ],
   "source": [
    "x = [1,2,4,10]\n",
    "print('x = ', x)\n",
    "print('ln x = ', np.log(x))\n",
    "print('log2 x = ', np.log2(x))\n",
    "print('log10 x = ', np.log10(x))"
   ]
  },
  {
   "cell_type": "code",
   "execution_count": 9,
   "metadata": {},
   "outputs": [
    {
     "name": "stdout",
     "output_type": "stream",
     "text": [
      "exp(x) - 1 =  [0.         0.0010005  0.01005017 0.10517092]\n",
      "log (1 + x) =  [0.         0.0009995  0.00995033 0.09531018]\n"
     ]
    }
   ],
   "source": [
    "## x값이 작을 때 더 정확한 값이다.\n",
    "x = [0, 0.001, 0.01, 0.1]\n",
    "print('exp(x) - 1 = ', np.expm1(x))\n",
    "print('log (1 + x) = ', np.log1p(x))"
   ]
  },
  {
   "cell_type": "markdown",
   "metadata": {},
   "source": [
    "특수 함수"
   ]
  },
  {
   "cell_type": "code",
   "execution_count": 10,
   "metadata": {},
   "outputs": [],
   "source": [
    "from scipy import special"
   ]
  },
  {
   "cell_type": "code",
   "execution_count": 11,
   "metadata": {},
   "outputs": [
    {
     "name": "stdout",
     "output_type": "stream",
     "text": [
      "gamma(x) =  [1.0000e+00 2.4000e+01 3.6288e+05]\n",
      "gammaln(x) =  [ 0.          3.17805383 12.80182748]\n",
      "beta(x,2) =  [0.5        0.03333333 0.00909091]\n"
     ]
    }
   ],
   "source": [
    "x = [1,5,10]\n",
    "print('gamma(x) = ', special.gamma(x))\n",
    "print('gammaln(x) = ', special.gammaln(x))\n",
    "print('beta(x,2) = ', special.beta(x,2))"
   ]
  },
  {
   "cell_type": "code",
   "execution_count": 12,
   "metadata": {},
   "outputs": [
    {
     "name": "stdout",
     "output_type": "stream",
     "text": [
      "erf(x) =  [0.         0.32862676 0.67780119 0.84270079]\n",
      "erfc(x) =  [1.         0.67137324 0.32219881 0.15729921]\n",
      "erfinv(x) =  [0.         0.27246271 0.73286908        inf]\n"
     ]
    }
   ],
   "source": [
    "x = np.array([0, 0.3, 0.7, 1.0])\n",
    "print('erf(x) = ', special.erf(x))\n",
    "print('erfc(x) = ', special.erfc(x))\n",
    "print('erfinv(x) = ', special.erfinv(x))"
   ]
  },
  {
   "cell_type": "markdown",
   "metadata": {},
   "source": [
    "### UFncs 고급 기능"
   ]
  },
  {
   "cell_type": "markdown",
   "metadata": {},
   "source": [
    "출력 지정\n",
    "> 대단히 큰 규모의 배열에서는 out 인수를 신중하게 사용함으로써 절약되는 메모리가 상당히 크다."
   ]
  },
  {
   "cell_type": "code",
   "execution_count": 13,
   "metadata": {},
   "outputs": [
    {
     "name": "stdout",
     "output_type": "stream",
     "text": [
      "[ 0. 10. 20. 30. 40.]\n"
     ]
    }
   ],
   "source": [
    "x = np.arange(5)\n",
    "y = np.empty(5)\n",
    "np.multiply(x, 10, out=y)\n",
    "print(y)"
   ]
  },
  {
   "cell_type": "code",
   "execution_count": 14,
   "metadata": {},
   "outputs": [
    {
     "name": "stdout",
     "output_type": "stream",
     "text": [
      "[ 1.  0.  2.  0.  4.  0.  8.  0. 16.  0.]\n"
     ]
    }
   ],
   "source": [
    "y = np.zeros(10)\n",
    "np.power(2, x, out=y[::2])\n",
    "print(y)"
   ]
  },
  {
   "cell_type": "markdown",
   "metadata": {},
   "source": [
    "집계"
   ]
  },
  {
   "cell_type": "code",
   "execution_count": 15,
   "metadata": {},
   "outputs": [],
   "source": [
    "x = np.arange(1,6)"
   ]
  },
  {
   "cell_type": "code",
   "execution_count": 16,
   "metadata": {},
   "outputs": [
    {
     "name": "stdout",
     "output_type": "stream",
     "text": [
      "15\n",
      "120\n"
     ]
    }
   ],
   "source": [
    "## 결과가 하나만 남을 때까지 연산\n",
    "print(np.add.reduce(x))\n",
    "print(np.multiply.reduce(x))"
   ]
  },
  {
   "cell_type": "code",
   "execution_count": 17,
   "metadata": {},
   "outputs": [
    {
     "name": "stdout",
     "output_type": "stream",
     "text": [
      "[ 1  3  6 10 15]\n",
      "[  1   2   6  24 120]\n"
     ]
    }
   ],
   "source": [
    "## 중간 결과 저장\n",
    "print(np.add.accumulate(x))\n",
    "print(np.multiply.accumulate(x))"
   ]
  },
  {
   "cell_type": "markdown",
   "metadata": {},
   "source": [
    "외적"
   ]
  },
  {
   "cell_type": "code",
   "execution_count": 18,
   "metadata": {},
   "outputs": [
    {
     "data": {
      "text/plain": [
       "array([[ 1,  2,  3,  4,  5],\n",
       "       [ 2,  4,  6,  8, 10],\n",
       "       [ 3,  6,  9, 12, 15],\n",
       "       [ 4,  8, 12, 16, 20],\n",
       "       [ 5, 10, 15, 20, 25]])"
      ]
     },
     "execution_count": 18,
     "metadata": {},
     "output_type": "execute_result"
    }
   ],
   "source": [
    "x = np.arange(1,6)\n",
    "np.multiply.outer(x,x)"
   ]
  },
  {
   "cell_type": "markdown",
   "metadata": {},
   "source": [
    "### 집계\n",
    "\n",
    "> .sum() <br>\n",
    "> .prod() <br>\n",
    "> .mean() <br>\n",
    "> .std() <br>\n",
    "> .var() <br>\n",
    "> .median() <br>\n",
    "> .percentile() <br>\n",
    "> .min() <br>\n",
    "> .max() <br>\n",
    "> .argmin() <br>\n",
    "> .argmax() <br>\n",
    "> .any() <br>\n",
    "> .all()"
   ]
  },
  {
   "cell_type": "markdown",
   "metadata": {},
   "source": [
    "합"
   ]
  },
  {
   "cell_type": "code",
   "execution_count": 19,
   "metadata": {},
   "outputs": [
    {
     "name": "stdout",
     "output_type": "stream",
     "text": [
      "47.2573461465544\n",
      "47.25734614655439\n"
     ]
    }
   ],
   "source": [
    "L = np.random.random(100)\n",
    "print(sum(L))\n",
    "print(np.sum(L))"
   ]
  },
  {
   "cell_type": "code",
   "execution_count": 20,
   "metadata": {},
   "outputs": [
    {
     "name": "stdout",
     "output_type": "stream",
     "text": [
      "1.16 s ± 19 ms per loop (mean ± std. dev. of 7 runs, 1 loop each)\n",
      "10.5 ms ± 310 µs per loop (mean ± std. dev. of 7 runs, 100 loops each)\n"
     ]
    }
   ],
   "source": [
    "big = np.random.rand(10000000)\n",
    "%timeit sum(big)\n",
    "%timeit np.sum(big)"
   ]
  },
  {
   "cell_type": "markdown",
   "metadata": {},
   "source": [
    "최솟값, 최댓값"
   ]
  },
  {
   "cell_type": "code",
   "execution_count": 21,
   "metadata": {},
   "outputs": [
    {
     "name": "stdout",
     "output_type": "stream",
     "text": [
      "445 ms ± 4.67 ms per loop (mean ± std. dev. of 7 runs, 1 loop each)\n",
      "445 ms ± 954 µs per loop (mean ± std. dev. of 7 runs, 1 loop each)\n",
      "3.96 ms ± 60.6 µs per loop (mean ± std. dev. of 7 runs, 100 loops each)\n",
      "3.88 ms ± 65.1 µs per loop (mean ± std. dev. of 7 runs, 100 loops each)\n"
     ]
    }
   ],
   "source": [
    "%timeit min(big)\n",
    "%timeit max(big)\n",
    "%timeit np.min(big)\n",
    "%timeit np.max(big)"
   ]
  },
  {
   "cell_type": "markdown",
   "metadata": {},
   "source": [
    "다차원 집계"
   ]
  },
  {
   "cell_type": "code",
   "execution_count": 22,
   "metadata": {},
   "outputs": [
    {
     "data": {
      "text/plain": [
       "array([[0.34791622, 0.23643475, 0.37276258, 0.27689493],\n",
       "       [0.62915986, 0.59773876, 0.41217007, 0.23194053],\n",
       "       [0.97118358, 0.96498814, 0.46033423, 0.59360769]])"
      ]
     },
     "execution_count": 22,
     "metadata": {},
     "output_type": "execute_result"
    }
   ],
   "source": [
    "M = np.random.random((3,4))\n",
    "M"
   ]
  },
  {
   "cell_type": "code",
   "execution_count": 23,
   "metadata": {},
   "outputs": [
    {
     "data": {
      "text/plain": [
       "6.095131333562109"
      ]
     },
     "execution_count": 23,
     "metadata": {},
     "output_type": "execute_result"
    }
   ],
   "source": [
    "M.sum()"
   ]
  },
  {
   "cell_type": "code",
   "execution_count": 24,
   "metadata": {},
   "outputs": [
    {
     "data": {
      "text/plain": [
       "array([0.34791622, 0.23643475, 0.37276258, 0.23194053])"
      ]
     },
     "execution_count": 24,
     "metadata": {},
     "output_type": "execute_result"
    }
   ],
   "source": [
    "M.min(axis=0)"
   ]
  },
  {
   "cell_type": "code",
   "execution_count": 25,
   "metadata": {},
   "outputs": [
    {
     "data": {
      "text/plain": [
       "array([0.37276258, 0.62915986, 0.97118358])"
      ]
     },
     "execution_count": 25,
     "metadata": {},
     "output_type": "execute_result"
    }
   ],
   "source": [
    "M.max(axis=1)"
   ]
  }
 ],
 "metadata": {
  "kernelspec": {
   "display_name": "Python 3",
   "language": "python",
   "name": "python3"
  },
  "language_info": {
   "codemirror_mode": {
    "name": "ipython",
    "version": 3
   },
   "file_extension": ".py",
   "mimetype": "text/x-python",
   "name": "python",
   "nbconvert_exporter": "python",
   "pygments_lexer": "ipython3",
   "version": "3.6.4"
  }
 },
 "nbformat": 4,
 "nbformat_minor": 2
}
