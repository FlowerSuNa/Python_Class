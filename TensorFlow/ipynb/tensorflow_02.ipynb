{
 "cells": [
  {
   "cell_type": "markdown",
   "metadata": {},
   "source": [
    "# TensorFlow"
   ]
  },
  {
   "cell_type": "markdown",
   "metadata": {},
   "source": [
    "참고 : TensorFlow Machine Learning Cookbook"
   ]
  },
  {
   "cell_type": "code",
   "execution_count": 1,
   "metadata": {},
   "outputs": [
    {
     "name": "stderr",
     "output_type": "stream",
     "text": [
      "C:\\Users\\GIGABYTE\\Anaconda3\\lib\\site-packages\\h5py\\__init__.py:36: FutureWarning: Conversion of the second argument of issubdtype from `float` to `np.floating` is deprecated. In future, it will be treated as `np.float64 == np.dtype(float).type`.\n",
      "  from ._conv import register_converters as _register_converters\n"
     ]
    }
   ],
   "source": [
    "import tensorflow as tf\n",
    "sess = tf.Session()"
   ]
  },
  {
   "cell_type": "code",
   "execution_count": 2,
   "metadata": {},
   "outputs": [],
   "source": [
    "import numpy as np\n",
    "import matplotlib.pyplot as plt"
   ]
  },
  {
   "cell_type": "markdown",
   "metadata": {},
   "source": [
    "### 계산 그래프의 연산"
   ]
  },
  {
   "cell_type": "code",
   "execution_count": 3,
   "metadata": {},
   "outputs": [
    {
     "name": "stdout",
     "output_type": "stream",
     "text": [
      "3.0\n",
      "9.0\n",
      "15.0\n",
      "21.0\n",
      "27.0\n"
     ]
    }
   ],
   "source": [
    "# 투입할 데이터와 플레이스홀더 생성\n",
    "x_vals = np.array([1., 3., 5., 7., 9.])\n",
    "x_data = tf.placeholder(tf.float32)\n",
    "\n",
    "# 상수 생성\n",
    "m_const = tf.constant(3.)\n",
    "\n",
    "# 연산 선언\n",
    "my_product = tf.multiply(x_data, m_const)\n",
    "\n",
    "# 그래프에 데이터 투입\n",
    "for x_val in x_vals:\n",
    "    print(sess.run(my_product, feed_dict={x_data:x_val}))"
   ]
  },
  {
   "cell_type": "markdown",
   "metadata": {},
   "source": [
    "### 다중 연산 중첩"
   ]
  },
  {
   "cell_type": "code",
   "execution_count": 4,
   "metadata": {},
   "outputs": [
    {
     "name": "stdout",
     "output_type": "stream",
     "text": [
      "[[102.]\n",
      " [ 66.]\n",
      " [ 58.]]\n",
      "[[114.]\n",
      " [ 78.]\n",
      " [ 70.]]\n"
     ]
    }
   ],
   "source": [
    "# 투입할 데이터와 플레이스홀더 생성\n",
    "my_array = np.array([[1., 3., 5., 7., 9.], \n",
    "                     [-2., 0., 2., 4., 6.], \n",
    "                     [-6., -3., 0., 3., 6.]])\n",
    "x_vals = np.array([my_array, my_array + 1])\n",
    "x_data = tf.placeholder(tf.float32, shape=(3,5))\n",
    "\n",
    "# 상수 생성\n",
    "m1 = tf.constant([[1.], [0.], [-1.], [2.], [4.]])\n",
    "m2 = tf.constant([[2.]])\n",
    "a1 = tf.constant([[10.]])\n",
    "\n",
    "# 연산 선언\n",
    "prod1 = tf.matmul(x_data, m1)\n",
    "prod2 = tf.matmul(prod1, m2)\n",
    "add1 = tf.add(prod2, a1)\n",
    "\n",
    "# 그래프에 데이터 투입\n",
    "for x_val in x_vals:\n",
    "    print(sess.run(add1, feed_dict={x_data:x_val}))"
   ]
  },
  {
   "cell_type": "markdown",
   "metadata": {},
   "source": [
    "### 다층 처리"
   ]
  },
  {
   "cell_type": "code",
   "execution_count": 5,
   "metadata": {},
   "outputs": [],
   "source": [
    "x_shape = [1, 4, 4, 1]\n",
    "x_val = np.random.uniform(size=x_shape)\n",
    "x_data = tf.placeholder(tf.float32, shape=x_shape)\n",
    "\n",
    "my_filter = tf.constant(0.25, shape=[2, 2, 1, 1])\n",
    "my_strides = [1, 2, 2, 1]\n",
    "\n",
    "mov_avg_layer = tf.nn.conv2d(x_data, my_filter, my_strides, padding='SAME', name='Moving_Avg_Window')"
   ]
  },
  {
   "cell_type": "code",
   "execution_count": 6,
   "metadata": {},
   "outputs": [],
   "source": [
    "def custom_layer(input_matrix):\n",
    "    input_matrix_sqeezed = tf.squeeze(input_matrix)\n",
    "    A = tf.constant([[1., 2.], [-1., 3.]])\n",
    "    b = tf.constant(1., shape=[2, 2])\n",
    "    temp1 = tf.matmul(A, input_matrix_sqeezed)\n",
    "    temp = tf.add(temp1, b)\n",
    "    return(tf.sigmoid(temp))"
   ]
  },
  {
   "cell_type": "code",
   "execution_count": 7,
   "metadata": {},
   "outputs": [],
   "source": [
    "with tf.name_scope('Custom_Layer') as scope:\n",
    "    custom_layer1 = custom_layer(mov_avg_layer)"
   ]
  },
  {
   "cell_type": "code",
   "execution_count": 8,
   "metadata": {},
   "outputs": [
    {
     "name": "stdout",
     "output_type": "stream",
     "text": [
      "[[0.938902   0.94110966]\n",
      " [0.93825805 0.90098923]]\n"
     ]
    }
   ],
   "source": [
    "print(sess.run(custom_layer1, feed_dict={x_data:x_val}))"
   ]
  }
 ],
 "metadata": {
  "kernelspec": {
   "display_name": "Python 3",
   "language": "python",
   "name": "python3"
  },
  "language_info": {
   "codemirror_mode": {
    "name": "ipython",
    "version": 3
   },
   "file_extension": ".py",
   "mimetype": "text/x-python",
   "name": "python",
   "nbconvert_exporter": "python",
   "pygments_lexer": "ipython3",
   "version": "3.6.4"
  }
 },
 "nbformat": 4,
 "nbformat_minor": 2
}
