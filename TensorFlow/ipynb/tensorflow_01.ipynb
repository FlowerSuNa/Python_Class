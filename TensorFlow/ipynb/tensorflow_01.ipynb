{
 "cells": [
  {
   "cell_type": "markdown",
   "metadata": {},
   "source": [
    "# TensorFlow"
   ]
  },
  {
   "cell_type": "markdown",
   "metadata": {},
   "source": [
    "참고 : TensorFlow Machine Learning Cookbook"
   ]
  },
  {
   "cell_type": "code",
   "execution_count": 1,
   "metadata": {},
   "outputs": [
    {
     "name": "stderr",
     "output_type": "stream",
     "text": [
      "C:\\Users\\GIGABYTE\\Anaconda3\\lib\\site-packages\\h5py\\__init__.py:36: FutureWarning: Conversion of the second argument of issubdtype from `float` to `np.floating` is deprecated. In future, it will be treated as `np.float64 == np.dtype(float).type`.\n",
      "  from ._conv import register_converters as _register_converters\n"
     ]
    }
   ],
   "source": [
    "import tensorflow as tf\n",
    "sess = tf.Session()"
   ]
  },
  {
   "cell_type": "code",
   "execution_count": 2,
   "metadata": {},
   "outputs": [],
   "source": [
    "import numpy as np"
   ]
  },
  {
   "cell_type": "markdown",
   "metadata": {},
   "source": [
    "### 텐서 생성"
   ]
  },
  {
   "cell_type": "markdown",
   "metadata": {},
   "source": [
    "##### 고정 텐서"
   ]
  },
  {
   "cell_type": "markdown",
   "metadata": {},
   "source": [
    "> tf.zeros() <br>\n",
    "> tf.ones() <br>\n",
    "> tf.fill() <br>\n",
    "> tf.constant() <br>\n",
    "> tf.zeros_like() <br>\n",
    "> tf.ones_like() <br>\n",
    "> tf.linspace() <br>\n",
    "> tf.range() <br>\n",
    "> tf.random_uniform() <br>\n",
    "> tf.random_normal() <br>\n",
    "> tf.truncated_normal() <br>\n",
    "> tf.random_shuffle() <br>\n",
    "> tf.random_crop()"
   ]
  },
  {
   "cell_type": "code",
   "execution_count": 3,
   "metadata": {},
   "outputs": [
    {
     "name": "stdout",
     "output_type": "stream",
     "text": [
      "Tensor(\"zeros:0\", shape=(10, 10), dtype=float32)\n",
      "[[0. 0. 0. 0. 0. 0. 0. 0. 0. 0.]\n",
      " [0. 0. 0. 0. 0. 0. 0. 0. 0. 0.]\n",
      " [0. 0. 0. 0. 0. 0. 0. 0. 0. 0.]\n",
      " [0. 0. 0. 0. 0. 0. 0. 0. 0. 0.]\n",
      " [0. 0. 0. 0. 0. 0. 0. 0. 0. 0.]\n",
      " [0. 0. 0. 0. 0. 0. 0. 0. 0. 0.]\n",
      " [0. 0. 0. 0. 0. 0. 0. 0. 0. 0.]\n",
      " [0. 0. 0. 0. 0. 0. 0. 0. 0. 0.]\n",
      " [0. 0. 0. 0. 0. 0. 0. 0. 0. 0.]\n",
      " [0. 0. 0. 0. 0. 0. 0. 0. 0. 0.]]\n"
     ]
    }
   ],
   "source": [
    "# 0 값으로 채워진 텐서\n",
    "zeros_tsr = tf.zeros([10,10])\n",
    "print(zeros_tsr)\n",
    "\n",
    "x = tf.Variable(zeros_tsr)\n",
    "initialize_op = tf.global_variables_initializer()\n",
    "sess.run(initialize_op)\n",
    "print(sess.run(x))"
   ]
  },
  {
   "cell_type": "code",
   "execution_count": 4,
   "metadata": {},
   "outputs": [
    {
     "name": "stdout",
     "output_type": "stream",
     "text": [
      "Tensor(\"ones:0\", shape=(10, 10), dtype=float32)\n",
      "[[1. 1. 1. 1. 1. 1. 1. 1. 1. 1.]\n",
      " [1. 1. 1. 1. 1. 1. 1. 1. 1. 1.]\n",
      " [1. 1. 1. 1. 1. 1. 1. 1. 1. 1.]\n",
      " [1. 1. 1. 1. 1. 1. 1. 1. 1. 1.]\n",
      " [1. 1. 1. 1. 1. 1. 1. 1. 1. 1.]\n",
      " [1. 1. 1. 1. 1. 1. 1. 1. 1. 1.]\n",
      " [1. 1. 1. 1. 1. 1. 1. 1. 1. 1.]\n",
      " [1. 1. 1. 1. 1. 1. 1. 1. 1. 1.]\n",
      " [1. 1. 1. 1. 1. 1. 1. 1. 1. 1.]\n",
      " [1. 1. 1. 1. 1. 1. 1. 1. 1. 1.]]\n"
     ]
    }
   ],
   "source": [
    "# 1 값으로 채워진 텐서\n",
    "ones_tsr = tf.ones([10,10])\n",
    "print(ones_tsr)\n",
    "\n",
    "x = tf.Variable(ones_tsr)\n",
    "initialize_op = tf.global_variables_initializer()\n",
    "sess.run(initialize_op)\n",
    "print(sess.run(x))"
   ]
  },
  {
   "cell_type": "code",
   "execution_count": 5,
   "metadata": {},
   "outputs": [
    {
     "name": "stdout",
     "output_type": "stream",
     "text": [
      "Tensor(\"Fill:0\", shape=(10, 10), dtype=int32)\n",
      "[[42 42 42 42 42 42 42 42 42 42]\n",
      " [42 42 42 42 42 42 42 42 42 42]\n",
      " [42 42 42 42 42 42 42 42 42 42]\n",
      " [42 42 42 42 42 42 42 42 42 42]\n",
      " [42 42 42 42 42 42 42 42 42 42]\n",
      " [42 42 42 42 42 42 42 42 42 42]\n",
      " [42 42 42 42 42 42 42 42 42 42]\n",
      " [42 42 42 42 42 42 42 42 42 42]\n",
      " [42 42 42 42 42 42 42 42 42 42]\n",
      " [42 42 42 42 42 42 42 42 42 42]]\n"
     ]
    }
   ],
   "source": [
    "# 동일한 상수 값으로 채워진 텐서\n",
    "filled_tsr = tf.fill([10,10], 42)\n",
    "print(filled_tsr)\n",
    "\n",
    "x = tf.Variable(filled_tsr)\n",
    "initialize_op = tf.global_variables_initializer()\n",
    "sess.run(initialize_op)\n",
    "print(sess.run(x))"
   ]
  },
  {
   "cell_type": "code",
   "execution_count": 6,
   "metadata": {},
   "outputs": [
    {
     "name": "stdout",
     "output_type": "stream",
     "text": [
      "Tensor(\"Const:0\", shape=(3,), dtype=int32)\n",
      "[1 2 3]\n"
     ]
    }
   ],
   "source": [
    "# 기존 상수를 이용해 텐서 생성\n",
    "constant_tsr = tf.constant([1,2,3])\n",
    "print(constant_tsr)\n",
    "\n",
    "x = tf.Variable(constant_tsr)\n",
    "initialize_op = tf.global_variables_initializer()\n",
    "sess.run(initialize_op)\n",
    "print(sess.run(x))"
   ]
  },
  {
   "cell_type": "markdown",
   "metadata": {},
   "source": [
    "##### 형태가 비슷한 텐서"
   ]
  },
  {
   "cell_type": "code",
   "execution_count": 7,
   "metadata": {},
   "outputs": [
    {
     "name": "stdout",
     "output_type": "stream",
     "text": [
      "Tensor(\"zeros_like:0\", shape=(3,), dtype=int32)\n",
      "[0 0 0]\n"
     ]
    }
   ],
   "source": [
    "zeros_similar = tf.zeros_like(constant_tsr)\n",
    "print(zeros_similar)\n",
    "\n",
    "x = tf.Variable(zeros_similar)\n",
    "initialize_op = tf.global_variables_initializer()\n",
    "sess.run(initialize_op)\n",
    "print(sess.run(x))"
   ]
  },
  {
   "cell_type": "code",
   "execution_count": 8,
   "metadata": {},
   "outputs": [
    {
     "name": "stdout",
     "output_type": "stream",
     "text": [
      "Tensor(\"ones_like:0\", shape=(3,), dtype=int32)\n",
      "[1 1 1]\n"
     ]
    }
   ],
   "source": [
    "ones_similar = tf.ones_like(constant_tsr)\n",
    "print(ones_similar)\n",
    "\n",
    "x = tf.Variable(ones_similar)\n",
    "initialize_op = tf.global_variables_initializer()\n",
    "sess.run(initialize_op)\n",
    "print(sess.run(x))"
   ]
  },
  {
   "cell_type": "markdown",
   "metadata": {},
   "source": [
    "##### 순열 텐서"
   ]
  },
  {
   "cell_type": "code",
   "execution_count": 9,
   "metadata": {},
   "outputs": [
    {
     "name": "stdout",
     "output_type": "stream",
     "text": [
      "Tensor(\"LinSpace:0\", shape=(3,), dtype=float32)\n",
      "[0.  0.5 1. ]\n"
     ]
    }
   ],
   "source": [
    "linear_tsr = tf.linspace(start=0.0, stop=1, num=3)\n",
    "print(linear_tsr)\n",
    "\n",
    "x = tf.Variable(linear_tsr)\n",
    "initialize_op = tf.global_variables_initializer()\n",
    "sess.run(initialize_op)\n",
    "print(sess.run(x))"
   ]
  },
  {
   "cell_type": "code",
   "execution_count": 10,
   "metadata": {},
   "outputs": [
    {
     "name": "stdout",
     "output_type": "stream",
     "text": [
      "Tensor(\"range:0\", shape=(3,), dtype=int32)\n",
      "[ 6  9 12]\n"
     ]
    }
   ],
   "source": [
    "integer_seq_tsr = tf.range(start=6, limit=15, delta=3)\n",
    "print(integer_seq_tsr)\n",
    "\n",
    "x = tf.Variable(integer_seq_tsr)\n",
    "initialize_op = tf.global_variables_initializer()\n",
    "sess.run(initialize_op)\n",
    "print(sess.run(x))"
   ]
  },
  {
   "cell_type": "markdown",
   "metadata": {},
   "source": [
    "##### 랜덤 텐서"
   ]
  },
  {
   "cell_type": "code",
   "execution_count": 11,
   "metadata": {},
   "outputs": [
    {
     "name": "stdout",
     "output_type": "stream",
     "text": [
      "Tensor(\"random_uniform:0\", shape=(5, 5), dtype=float32)\n",
      "[[0.47994602 0.27949786 0.47412622 0.0462718  0.8612536 ]\n",
      " [0.36950815 0.7915094  0.712957   0.9372518  0.5246682 ]\n",
      " [0.01603019 0.384122   0.72070074 0.9169071  0.19344926]\n",
      " [0.1104511  0.2980758  0.29821336 0.0358659  0.0964452 ]\n",
      " [0.24499059 0.8546803  0.05407107 0.3529098  0.36996067]]\n"
     ]
    }
   ],
   "source": [
    "# 균등 분포를 따르는 난수\n",
    "randunif = tf.random_uniform([5,5], minval=0, maxval=1)\n",
    "print(randunif)\n",
    "\n",
    "x = tf.Variable(randunif)\n",
    "initialize_op = tf.global_variables_initializer()\n",
    "sess.run(initialize_op)\n",
    "print(sess.run(x))"
   ]
  },
  {
   "cell_type": "code",
   "execution_count": 12,
   "metadata": {},
   "outputs": [
    {
     "name": "stdout",
     "output_type": "stream",
     "text": [
      "Tensor(\"random_normal:0\", shape=(5, 5), dtype=float32)\n",
      "[[ 0.58746004 -0.20157363 -1.8584481   0.34749243  0.9767901 ]\n",
      " [ 0.9899406   1.0308627   1.3199621  -0.67974395  1.7002864 ]\n",
      " [-0.9548243  -0.6181818   1.539062    1.0252948   1.4210128 ]\n",
      " [-1.0111387  -0.34878066  0.07782032 -1.0935448  -1.0925817 ]\n",
      " [-1.0126168  -0.8538167   0.48519436  0.21645649 -0.5057047 ]]\n"
     ]
    }
   ],
   "source": [
    "# 정규 분포를 따르는 난수\n",
    "randnorm = tf.random_normal([5,5], mean=0.0, stddev=1.0)\n",
    "print(randnorm)\n",
    "\n",
    "x = tf.Variable(randnorm)\n",
    "initialize_op = tf.global_variables_initializer()\n",
    "sess.run(initialize_op)\n",
    "print(sess.run(x))"
   ]
  },
  {
   "cell_type": "code",
   "execution_count": 13,
   "metadata": {},
   "outputs": [
    {
     "name": "stdout",
     "output_type": "stream",
     "text": [
      "Tensor(\"truncated_normal:0\", shape=(5, 5), dtype=float32)\n",
      "[[ 0.13184944  0.9158358   1.4713159  -0.862025   -1.4972615 ]\n",
      " [-0.05550429  0.06317545 -0.4878063   0.46186748 -1.0651603 ]\n",
      " [-0.02870526  0.2860767  -1.1595843  -1.0563946  -0.78925246]\n",
      " [ 0.00990442 -0.39756858 -1.02692    -0.31451374  0.08980581]\n",
      " [ 0.43964928 -0.65537506 -0.22230221 -0.82207286  1.3520684 ]]\n"
     ]
    }
   ],
   "source": [
    "# 지정한 평균에서 표준편차 2배 이내에 속하는 정규 분포를 따르는 난수\n",
    "runcnorm = tf.truncated_normal([5,5], mean=0.0, stddev=1.0)\n",
    "print(runcnorm)\n",
    "\n",
    "x = tf.Variable(runcnorm)\n",
    "initialize_op = tf.global_variables_initializer()\n",
    "sess.run(initialize_op)\n",
    "print(sess.run(x))"
   ]
  },
  {
   "cell_type": "code",
   "execution_count": 14,
   "metadata": {},
   "outputs": [
    {
     "name": "stdout",
     "output_type": "stream",
     "text": [
      "Tensor(\"RandomShuffle:0\", shape=(5, 5), dtype=float32)\n",
      "[[ 0.89549124 -0.08373728 -0.72742015  0.26157135 -1.6027105 ]\n",
      " [ 1.408906    1.5596704   0.19840299 -0.09341444  0.8897242 ]\n",
      " [-0.6443429   0.00210681  0.624688    0.9025737   1.3810036 ]\n",
      " [ 0.7633238   0.91395867 -0.63057286  0.85223305 -0.25467086]\n",
      " [-0.81976277 -0.29858184  0.8681306   0.00596275  0.6005683 ]]\n"
     ]
    }
   ],
   "source": [
    "# 배열 항목을 임의로 뒤섞기\n",
    "shuffled_output = tf.random_shuffle(x)\n",
    "print(shuffled_output)\n",
    "\n",
    "x = tf.Variable(shuffled_output)\n",
    "initialize_op = tf.global_variables_initializer()\n",
    "sess.run(initialize_op)\n",
    "print(sess.run(x))"
   ]
  },
  {
   "cell_type": "code",
   "execution_count": 15,
   "metadata": {},
   "outputs": [
    {
     "name": "stdout",
     "output_type": "stream",
     "text": [
      "Tensor(\"random_crop:0\", shape=(3, 5), dtype=float32)\n",
      "[[-0.81976277 -0.29858184  0.8681306   0.00596275  0.6005683 ]\n",
      " [ 1.408906    1.5596704   0.19840299 -0.09341444  0.8897242 ]\n",
      " [ 0.89549124 -0.08373728 -0.72742015  0.26157135 -1.6027105 ]]\n"
     ]
    }
   ],
   "source": [
    "# 배열 항목을 임의로 섞고 형태 변환 \n",
    "cropped_output = tf.random_crop(x,[3,5])\n",
    "print(cropped_output)\n",
    "\n",
    "x = tf.Variable(cropped_output)\n",
    "initialize_op = tf.global_variables_initializer()\n",
    "sess.run(initialize_op)\n",
    "print(sess.run(x))"
   ]
  },
  {
   "cell_type": "markdown",
   "metadata": {},
   "source": [
    "> tf.convert_to_tensort() : 어떤 numpy 배열이든 파이썬 리스트로 변환 <br>\n",
    "> tf.global_variables_initializer() : 생성한 모든 변수 초기화 <br>\n",
    "> 변수.initializer : 원하는 변수 초기화"
   ]
  },
  {
   "cell_type": "markdown",
   "metadata": {},
   "source": [
    "### 행렬 다루기"
   ]
  },
  {
   "cell_type": "code",
   "execution_count": 16,
   "metadata": {},
   "outputs": [],
   "source": [
    "identity_matrix = tf.diag([1.0, 1.0, 1.0])\n",
    "A = tf.truncated_normal([2,3])\n",
    "B = tf.fill([2,3], 5.0)\n",
    "C = tf.random_uniform([3,2])\n",
    "D = tf.convert_to_tensor(np.array([[1.,2.,3.],[-3.,-8.,-2.],[0.,5.,-2.]]))"
   ]
  },
  {
   "cell_type": "code",
   "execution_count": 17,
   "metadata": {},
   "outputs": [
    {
     "name": "stdout",
     "output_type": "stream",
     "text": [
      "[[1. 0. 0.]\n",
      " [0. 1. 0.]\n",
      " [0. 0. 1.]]\n"
     ]
    }
   ],
   "source": [
    "print(sess.run(identity_matrix))"
   ]
  },
  {
   "cell_type": "code",
   "execution_count": 18,
   "metadata": {},
   "outputs": [
    {
     "name": "stdout",
     "output_type": "stream",
     "text": [
      "[[-0.07530292 -0.2598322  -1.8144697 ]\n",
      " [-0.31242022 -0.03449913  0.721739  ]]\n"
     ]
    }
   ],
   "source": [
    "print(sess.run(A))"
   ]
  },
  {
   "cell_type": "code",
   "execution_count": 19,
   "metadata": {},
   "outputs": [
    {
     "name": "stdout",
     "output_type": "stream",
     "text": [
      "[[5. 5. 5.]\n",
      " [5. 5. 5.]]\n"
     ]
    }
   ],
   "source": [
    "print(sess.run(B))"
   ]
  },
  {
   "cell_type": "code",
   "execution_count": 20,
   "metadata": {},
   "outputs": [
    {
     "name": "stdout",
     "output_type": "stream",
     "text": [
      "[[0.7825252  0.36602592]\n",
      " [0.4789884  0.7631116 ]\n",
      " [0.8019793  0.587728  ]]\n"
     ]
    }
   ],
   "source": [
    "print(sess.run(C))"
   ]
  },
  {
   "cell_type": "code",
   "execution_count": 21,
   "metadata": {},
   "outputs": [
    {
     "name": "stdout",
     "output_type": "stream",
     "text": [
      "[[ 1.  2.  3.]\n",
      " [-3. -8. -2.]\n",
      " [ 0.  5. -2.]]\n"
     ]
    }
   ],
   "source": [
    "print(sess.run(D))"
   ]
  },
  {
   "cell_type": "code",
   "execution_count": 22,
   "metadata": {},
   "outputs": [
    {
     "name": "stdout",
     "output_type": "stream",
     "text": [
      "[[4.618255  3.9893596 5.345642 ]\n",
      " [6.139927  3.611445  4.943446 ]]\n"
     ]
    }
   ],
   "source": [
    "# 행렬의 합\n",
    "print(sess.run(A+B))"
   ]
  },
  {
   "cell_type": "code",
   "execution_count": 23,
   "metadata": {},
   "outputs": [
    {
     "name": "stdout",
     "output_type": "stream",
     "text": [
      "[[0. 0. 0.]\n",
      " [0. 0. 0.]]\n"
     ]
    }
   ],
   "source": [
    "# 행렬의 차\n",
    "print(sess.run(B-B))"
   ]
  },
  {
   "cell_type": "code",
   "execution_count": 24,
   "metadata": {},
   "outputs": [
    {
     "name": "stdout",
     "output_type": "stream",
     "text": [
      "[[5. 5. 5.]\n",
      " [5. 5. 5.]]\n"
     ]
    }
   ],
   "source": [
    "# 행렬의 곱\n",
    "print(sess.run(tf.matmul(B, identity_matrix)))"
   ]
  },
  {
   "cell_type": "code",
   "execution_count": 25,
   "metadata": {},
   "outputs": [
    {
     "name": "stdout",
     "output_type": "stream",
     "text": [
      "[[0.8205328  0.50053453 0.517951  ]\n",
      " [0.98720133 0.94836295 0.72501945]]\n"
     ]
    }
   ],
   "source": [
    "# 행렬 전치\n",
    "print(sess.run(tf.transpose(C)))"
   ]
  },
  {
   "cell_type": "code",
   "execution_count": 26,
   "metadata": {},
   "outputs": [
    {
     "name": "stdout",
     "output_type": "stream",
     "text": [
      "-31.0\n"
     ]
    }
   ],
   "source": [
    "print(sess.run(tf.matrix_determinant(D)))"
   ]
  },
  {
   "cell_type": "code",
   "execution_count": 27,
   "metadata": {},
   "outputs": [
    {
     "name": "stdout",
     "output_type": "stream",
     "text": [
      "[[-0.83870968 -0.61290323 -0.64516129]\n",
      " [ 0.19354839  0.06451613  0.22580645]\n",
      " [ 0.48387097  0.16129032  0.06451613]]\n"
     ]
    }
   ],
   "source": [
    "# 역행렬\n",
    "print(sess.run(tf.matrix_inverse(D)))"
   ]
  },
  {
   "cell_type": "code",
   "execution_count": 28,
   "metadata": {},
   "outputs": [
    {
     "name": "stdout",
     "output_type": "stream",
     "text": [
      "[[1. 0. 0.]\n",
      " [0. 1. 0.]\n",
      " [0. 0. 1.]]\n"
     ]
    }
   ],
   "source": [
    "# 숄레스키 분해\n",
    "print(sess.run(tf.cholesky(identity_matrix)))"
   ]
  },
  {
   "cell_type": "code",
   "execution_count": 29,
   "metadata": {},
   "outputs": [
    {
     "name": "stdout",
     "output_type": "stream",
     "text": [
      "(array([-11.38910525,  -0.29446882,   2.68357407]), array([[ 0.20901067,  0.59907787, -0.77292965],\n",
      "       [ 0.86315172,  0.25849588,  0.43376144],\n",
      "       [-0.45965601,  0.75781633,  0.4630667 ]]))\n"
     ]
    }
   ],
   "source": [
    "# 행렬의 고윳값과 고유 벡터 (고유 분해)\n",
    "print(sess.run(tf.self_adjoint_eig(D)))"
   ]
  },
  {
   "cell_type": "markdown",
   "metadata": {},
   "source": [
    "### 연산"
   ]
  },
  {
   "cell_type": "code",
   "execution_count": 30,
   "metadata": {},
   "outputs": [
    {
     "name": "stdout",
     "output_type": "stream",
     "text": [
      "0\n"
     ]
    }
   ],
   "source": [
    "print(sess.run(tf.div(3,4)))"
   ]
  },
  {
   "cell_type": "code",
   "execution_count": 31,
   "metadata": {},
   "outputs": [
    {
     "name": "stdout",
     "output_type": "stream",
     "text": [
      "0.75\n"
     ]
    }
   ],
   "source": [
    "# 정수를 나누기 전에 소수로 변환해 항상 소수인 계산 결과를 반환\n",
    "print(sess.run(tf.truediv(3,4)))"
   ]
  },
  {
   "cell_type": "code",
   "execution_count": 32,
   "metadata": {},
   "outputs": [
    {
     "name": "stdout",
     "output_type": "stream",
     "text": [
      "0.0\n"
     ]
    }
   ],
   "source": [
    "# 소수를 대상으로 정수 나눗셈\n",
    "print(sess.run(tf.floordiv(3.,4.)))"
   ]
  },
  {
   "cell_type": "code",
   "execution_count": 33,
   "metadata": {},
   "outputs": [
    {
     "name": "stdout",
     "output_type": "stream",
     "text": [
      "2.0\n"
     ]
    }
   ],
   "source": [
    "print(sess.run(tf.mod(22.,5.)))"
   ]
  },
  {
   "cell_type": "code",
   "execution_count": 34,
   "metadata": {},
   "outputs": [
    {
     "name": "stdout",
     "output_type": "stream",
     "text": [
      "[0. 0. 1.]\n"
     ]
    }
   ],
   "source": [
    "# 외적\n",
    "print(sess.run(tf.cross([1.,0.,0.,],[0.,1.,0.])))"
   ]
  },
  {
   "cell_type": "markdown",
   "metadata": {},
   "source": [
    "<table>\n",
    "    <tr> <td>tf.abs()</td> <td>절대값</td> </tr>\n",
    "    <tr> <td>tf.ceil()</td> <td>상한 값</td> </tr>\n",
    "    <tr> <td>tf.cos()</td> <td>cos 값</td> </tr>\n",
    "    <tr> <td>tf.exp()</td> <td>밑이 e인 지수 값</td> </tr>\n",
    "    <tr> <td>tf.floor()</td> <td>하한 값</td> </tr>\n",
    "    <tr> <td>tf.inv()</td> <td>역수 값</td> </tr>\n",
    "    <tr> <td>tf.log()</td> <td>자연 로그 값</td> </tr>\n",
    "    <tr> <td>tf.maximum()</td> <td>최댓값</td> </tr>\n",
    "    <tr> <td>tf.minimum()</td> <td>최솟값</td> </tr>\n",
    "    <tr> <td>tf.neg()</td> <td>부호 반전 값</td> </tr>\n",
    "    <tr> <td>tf.pow()</td> <td>거듭제곱한 값</td> </tr>\n",
    "    <tr> <td>tf.round()</td> <td>반올림 값</td> </tr>\n",
    "    <tr> <td>tf.resqrt()</td> <td>제곱근의 역수 값</td> </tr>\n",
    "    <tr> <td>tf.sign()</td> <td>부호 반환</td> </tr>\n",
    "    <tr> <td>tf.sin()</td> <td>sin 값</td> </tr>\n",
    "    <tr> <td>tf.sqrt()</td> <td>제곱근 값</td> </tr>\n",
    "    <tr> <td>tf.square()</td> <td>제곱 값</td> </tr>\n",
    "</table>"
   ]
  },
  {
   "cell_type": "markdown",
   "metadata": {},
   "source": [
    "<table>\n",
    "    <tr> <td>tf.digamma()</td> <td>igamma() 함수의 도함수인 프사이 함수</td> </tr>\n",
    "    <tr> <td>tf.erf()</td> <td>가우스 오차 함수</td> </tr>\n",
    "    <tr> <td>tf.ertc()</td> <td>여오차 함수</td> </tr>\n",
    "    <tr> <td>tf.igamma()</td> <td>하부 정규화 불완전 감마 함수</td> </tr>\n",
    "    <tr> <td>tf.igammac()</td> <td>상부 정규화 불완전 감마 함수</td> </tr>\n",
    "    <tr> <td>tf.lbeta()</td> <td>베타 함수 절대값의 자연로그 값</td> </tr>\n",
    "    <tr> <td>tf.lgamma()</td> <td>감마 함수 절대값의 자연로그 값</td> </tr>\n",
    "    <tr> <td>tf.squared_difference()</td> <td>차의 제곱 값</td> </tr>\n",
    "</table>"
   ]
  },
  {
   "cell_type": "code",
   "execution_count": 35,
   "metadata": {},
   "outputs": [
    {
     "name": "stdout",
     "output_type": "stream",
     "text": [
      "362\n"
     ]
    }
   ],
   "source": [
    "def custom_polynomial(value):\n",
    "    return (tf.subtract(3 * tf.square(value), value) + 10)\n",
    "print(sess.run(custom_polynomial(11)))"
   ]
  }
 ],
 "metadata": {
  "kernelspec": {
   "display_name": "Python 3",
   "language": "python",
   "name": "python3"
  },
  "language_info": {
   "codemirror_mode": {
    "name": "ipython",
    "version": 3
   },
   "file_extension": ".py",
   "mimetype": "text/x-python",
   "name": "python",
   "nbconvert_exporter": "python",
   "pygments_lexer": "ipython3",
   "version": "3.6.4"
  }
 },
 "nbformat": 4,
 "nbformat_minor": 2
}
