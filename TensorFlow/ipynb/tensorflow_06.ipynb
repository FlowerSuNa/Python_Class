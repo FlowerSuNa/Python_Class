{
 "cells": [
  {
   "cell_type": "markdown",
   "metadata": {},
   "source": [
    "# TensorFlow"
   ]
  },
  {
   "cell_type": "markdown",
   "metadata": {},
   "source": [
    "참고 : TensorFlow Machine Learning Cookbook"
   ]
  },
  {
   "cell_type": "code",
   "execution_count": 1,
   "metadata": {},
   "outputs": [
    {
     "name": "stderr",
     "output_type": "stream",
     "text": [
      "C:\\Users\\GIGABYTE\\Anaconda3\\lib\\site-packages\\h5py\\__init__.py:36: FutureWarning: Conversion of the second argument of issubdtype from `float` to `np.floating` is deprecated. In future, it will be treated as `np.float64 == np.dtype(float).type`.\n",
      "  from ._conv import register_converters as _register_converters\n"
     ]
    }
   ],
   "source": [
    "import tensorflow as tf\n",
    "sess = tf.Session()"
   ]
  },
  {
   "cell_type": "code",
   "execution_count": 2,
   "metadata": {},
   "outputs": [],
   "source": [
    "import numpy as np\n",
    "import matplotlib.pyplot as plt"
   ]
  },
  {
   "cell_type": "markdown",
   "metadata": {},
   "source": [
    "### 일괄 학습과 확률적 학습"
   ]
  },
  {
   "cell_type": "markdown",
   "metadata": {},
   "source": [
    "> 역전파에 따라 텐서플로가 모델 변수를 갱신하는 작업은 데이터 하나의 관찰을 대상으로 할 수도 있고, \n",
    "대규모 데이터를 동시에 관찰한 내용을 대상으로 할 수도 있다. \n",
    "> 학습 사례 하나를 대상으로 적용하는 것은 학습 과정의 오류 가능성을 높일 수 있는 반면,\n",
    "너무 큰 규모의 데이터를 일괄적으로 사용하는 것은 계산양이 너무 많을 수 있다. \n",
    "> 적절한 유형의 학습 방식 선택은 머신러닝 알고리즘의 정답 수렴에 중요한 요소다."
   ]
  },
  {
   "cell_type": "markdown",
   "metadata": {},
   "source": [
    "##### 일괄 비용 함수"
   ]
  },
  {
   "cell_type": "code",
   "execution_count": 3,
   "metadata": {},
   "outputs": [],
   "source": [
    "# 일괄 작업 크기 선언\n",
    "# - 계산 그래프에 얼마나 많은 관찰 데이터를 한 번에 투입할 것인지\n",
    "batch_size = 20\n",
    "\n",
    "# 모델의 데이터, 플레이스홀더, 변수 선언\n",
    "x_vals = np.random.normal(1, 0.1, 100)\n",
    "y_vals = np.repeat(10., 100)\n",
    "x_data = tf.placeholder(shape=[None,1], dtype=tf.float32)\n",
    "y_target = tf.placeholder(shape=[None,1], dtype=tf.float32)\n",
    "A = tf.Variable(tf.random_normal(shape=[1,1]))\n",
    "\n",
    "# 계산 그래프 선언\n",
    "my_output = tf.matmul(x_data, A)\n",
    "\n",
    "# 비용 함수 선언\n",
    "loss = tf.reduce_mean(tf.square(my_output - y_target))\n",
    "\n",
    "# 변수 초기화\n",
    "init = tf.global_variables_initializer()\n",
    "sess.run(init)\n",
    "\n",
    "# 최적화 함수 선언\n",
    "my_opt = tf.train.GradientDescentOptimizer(0.02)\n",
    "train_step = my_opt.minimize(loss)"
   ]
  },
  {
   "cell_type": "code",
   "execution_count": 4,
   "metadata": {},
   "outputs": [
    {
     "name": "stdout",
     "output_type": "stream",
     "text": [
      "Step #5 A = [[2.2460914]]\n",
      "Loss = 59.84831\n",
      "\n",
      "Step #10 A = [[3.672749]]\n",
      "Loss = 39.590836\n",
      "\n",
      "Step #15 A = [[4.832423]]\n",
      "Loss = 27.432453\n",
      "\n",
      "Step #20 A = [[5.7701287]]\n",
      "Loss = 16.624468\n",
      "\n",
      "Step #25 A = [[6.5423727]]\n",
      "Loss = 11.564597\n",
      "\n",
      "Step #30 A = [[7.1816955]]\n",
      "Loss = 9.513028\n",
      "\n",
      "Step #35 A = [[7.6963253]]\n",
      "Loss = 5.8907156\n",
      "\n",
      "Step #40 A = [[8.130435]]\n",
      "Loss = 4.441726\n",
      "\n",
      "Step #45 A = [[8.472184]]\n",
      "Loss = 4.733609\n",
      "\n",
      "Step #50 A = [[8.750924]]\n",
      "Loss = 3.5080235\n",
      "\n",
      "Step #55 A = [[8.979889]]\n",
      "Loss = 2.5710447\n",
      "\n",
      "Step #60 A = [[9.144497]]\n",
      "Loss = 2.873115\n",
      "\n",
      "Step #65 A = [[9.272122]]\n",
      "Loss = 1.3740151\n",
      "\n",
      "Step #70 A = [[9.413105]]\n",
      "Loss = 2.0313504\n",
      "\n",
      "Step #75 A = [[9.504414]]\n",
      "Loss = 1.9117428\n",
      "\n",
      "Step #80 A = [[9.586525]]\n",
      "Loss = 1.2944453\n",
      "\n",
      "Step #85 A = [[9.628228]]\n",
      "Loss = 1.2548229\n",
      "\n",
      "Step #90 A = [[9.702844]]\n",
      "Loss = 0.95773494\n",
      "\n",
      "Step #95 A = [[9.786766]]\n",
      "Loss = 0.99229956\n",
      "\n",
      "Step #100 A = [[9.826107]]\n",
      "Loss = 0.69658273\n",
      "\n"
     ]
    }
   ],
   "source": [
    "# 최적화하는 학습 루프 실행\n",
    "loss_batch = []\n",
    "\n",
    "for i in range(100):\n",
    "    rand_index = np.random.choice(100, size=batch_size)\n",
    "    rand_x = np.transpose([x_vals[rand_index]])\n",
    "    rand_y = np.transpose([y_vals[rand_index]])\n",
    "    \n",
    "    sess.run(train_step, feed_dict={x_data:rand_x, y_target:rand_y})\n",
    "    \n",
    "    if (i+1) % 5 == 0:\n",
    "        print('Step #' + str(i+1) + ' A = ' + str(sess.run(A)))\n",
    "        temp_loss = sess.run(loss, feed_dict={x_data:rand_x, y_target:rand_y})\n",
    "        \n",
    "        print('Loss = ' + str(temp_loss) + '\\n')\n",
    "        loss_batch.append(temp_loss)"
   ]
  },
  {
   "cell_type": "markdown",
   "metadata": {},
   "source": [
    "##### 초기화"
   ]
  },
  {
   "cell_type": "code",
   "execution_count": 5,
   "metadata": {},
   "outputs": [],
   "source": [
    "tf.reset_default_graph()\n",
    "sess = tf.Session()"
   ]
  },
  {
   "cell_type": "markdown",
   "metadata": {},
   "source": [
    "##### 확률적 비용 함수"
   ]
  },
  {
   "cell_type": "code",
   "execution_count": 6,
   "metadata": {},
   "outputs": [],
   "source": [
    "# 모델의 데이터, 플레이스홀더, 변수 선언\n",
    "x_vals = np.random.normal(1, 0.1, 100)\n",
    "y_vals = np.repeat(10., 100)\n",
    "x_data = tf.placeholder(shape=[1], dtype=tf.float32)\n",
    "y_target = tf.placeholder(shape=[1], dtype=tf.float32)\n",
    "A = tf.Variable(tf.random_normal(shape=[1]))\n",
    "\n",
    "# 계산 그래프 선언\n",
    "my_output = tf.multiply(x_data, A)\n",
    "\n",
    "# 비용 함수 선언\n",
    "loss = tf.reduce_mean(tf.square(my_output - y_target))\n",
    "\n",
    "# 변수 초기화\n",
    "init = tf.global_variables_initializer()\n",
    "sess.run(init)\n",
    "\n",
    "# 최적화 함수 선언\n",
    "my_opt = tf.train.GradientDescentOptimizer(0.02)\n",
    "train_step = my_opt.minimize(loss)"
   ]
  },
  {
   "cell_type": "code",
   "execution_count": 7,
   "metadata": {},
   "outputs": [
    {
     "name": "stdout",
     "output_type": "stream",
     "text": [
      "Step #5 A = [2.1385465]\n",
      "Loss = 60.738655\n",
      "Step #10 A = [3.5388422]\n",
      "Loss = 44.12583\n",
      "Step #15 A = [4.7507124]\n",
      "Loss = 24.933949\n",
      "Step #20 A = [5.703273]\n",
      "Loss = 16.85507\n",
      "Step #25 A = [6.451173]\n",
      "Loss = 3.6604671\n",
      "Step #30 A = [7.05044]\n",
      "Loss = 14.849469\n",
      "Step #35 A = [7.601813]\n",
      "Loss = 13.243421\n",
      "Step #40 A = [8.058705]\n",
      "Loss = 9.75209\n",
      "Step #45 A = [8.377281]\n",
      "Loss = 6.2715335\n",
      "Step #50 A = [8.644506]\n",
      "Loss = 5.1311274\n",
      "Step #55 A = [8.810774]\n",
      "Loss = 0.005935412\n",
      "Step #60 A = [9.016348]\n",
      "Loss = 8.501206\n",
      "Step #65 A = [9.185207]\n",
      "Loss = 4.688313\n",
      "Step #70 A = [9.41895]\n",
      "Loss = 0.13253859\n",
      "Step #75 A = [9.563299]\n",
      "Loss = 0.9098585\n",
      "Step #80 A = [9.508419]\n",
      "Loss = 0.035891764\n",
      "Step #85 A = [9.662776]\n",
      "Loss = 0.98210216\n",
      "Step #90 A = [9.5481205]\n",
      "Loss = 3.5808666\n",
      "Step #95 A = [9.673694]\n",
      "Loss = 2.7797375\n",
      "Step #100 A = [9.812989]\n",
      "Loss = 2.7802463\n"
     ]
    }
   ],
   "source": [
    "# 최적화하는 학습 루프 실행\n",
    "loss_stochastic = []\n",
    "\n",
    "for i in range(100):\n",
    "    rand_index = np.random.choice(100)\n",
    "    rand_x = [x_vals[rand_index]]\n",
    "    rand_y = [y_vals[rand_index]]\n",
    "    \n",
    "    sess.run(train_step, feed_dict={x_data:rand_x, y_target:rand_y})\n",
    "    \n",
    "    if (i+1) % 5 == 0:\n",
    "        print('Step #' + str(i+1) + ' A = ' + str(sess.run(A)))\n",
    "        temp_loss = sess.run(loss, feed_dict={x_data:rand_x, y_target:rand_y})\n",
    "        \n",
    "        print('Loss = ' + str(temp_loss))\n",
    "        loss_stochastic.append(temp_loss)"
   ]
  },
  {
   "cell_type": "markdown",
   "metadata": {},
   "source": [
    "##### 시각화"
   ]
  },
  {
   "cell_type": "code",
   "execution_count": 8,
   "metadata": {},
   "outputs": [
    {
     "data": {
      "image/png": "[encoded data removed]",
      "text/plain": [
       "<matplotlib.figure.Figure at 0x246235cd588>"
      ]
     },
     "metadata": {},
     "output_type": "display_data"
    }
   ],
   "source": [
    "plt.plot(range(0, 100, 5), loss_stochastic, 'b-', label='Stochactic Loss')\n",
    "plt.plot(range(0, 100, 5), loss_batch, 'r--', label='Batch Loss, size=20')\n",
    "plt.legend(loc='upper right', prop={'size':11})\n",
    "plt.show()"
   ]
  },
  {
   "cell_type": "markdown",
   "metadata": {},
   "source": [
    "<table>\n",
    "    <tr> <td>학습 유형</td> <td>장점</td> <td>단점</td> </tr>\n",
    "    <tr> <td>확률적</td> <td>임의성으로 지역 최솟값에서 탈피할 수 있다.</td> <td>일반적으로 수렴에 더 많은 반복이 필요하다.</td> </tr>\n",
    "    <tr> <td>일괄</td> <td>최솟값을 더 빨리 찾아낸다.</td> <td>계산을 위한 자원이 더 많이 필요하다.</td> </tr>\n",
    "</table>"
   ]
  },
  {
   "cell_type": "markdown",
   "metadata": {},
   "source": [
    "### 모든 요소 조합"
   ]
  },
  {
   "cell_type": "code",
   "execution_count": 9,
   "metadata": {},
   "outputs": [
    {
     "name": "stdout",
     "output_type": "stream",
     "text": [
      "Step #200 A = [[8.616538]], b = [[-3.4253418]]\n",
      "Step #400 A = [[10.110376]], b = [[-4.7298837]]\n",
      "Step #600 A = [[11.113556]], b = [[-5.4402413]]\n",
      "Step #800 A = [[11.868018]], b = [[-5.8714004]]\n",
      "Step #1000 A = [[12.452268]], b = [[-6.2674046]]\n"
     ]
    }
   ],
   "source": [
    "# 데이터 로드\n",
    "from sklearn import datasets\n",
    "iris = datasets.load_iris()\n",
    "\n",
    "binary_target = np.array([1. if x==0 else 0. for x in iris.target])\n",
    "iris_2d = np.array([[x[2], x[3]] for x in iris.data])\n",
    "\n",
    "# 일괄 작업 크기, 데이터,  플레이스홀더, 모델 변수 선언\n",
    "batch_size = 20\n",
    "x1_data = tf.placeholder(shape=[None,1], dtype=tf.float32)\n",
    "x2_data = tf.placeholder(shape=[None,1], dtype=tf.float32)\n",
    "y_target = tf.placeholder(shape=[None,1], dtype=tf.float32)\n",
    "A = tf.Variable(tf.random_normal(shape=[1,1]))\n",
    "b = tf.Variable(tf.random_normal(shape=[1,1]))\n",
    "\n",
    "# 선형 모델 정의 : x1 - x2 * A - b\n",
    "my_mult = tf.matmul(x2_data, A)\n",
    "my_add = tf.add(my_mult, b)\n",
    "my_output = tf.subtract(x1_data, my_add)\n",
    "\n",
    "# 시그모이드 교차 엔트로피 비용 함수 선언\n",
    "xentropy = tf.nn.sigmoid_cross_entropy_with_logits(logits=my_output, labels=y_target)\n",
    "\n",
    "# 최적화 방식 선언\n",
    "my_opt = tf.train.GradientDescentOptimizer(0.05)\n",
    "train_step = my_opt.minimize(xentropy)\n",
    "\n",
    "# 변수 초기화\n",
    "init = tf.global_variables_initializer()\n",
    "sess.run(init)\n",
    "\n",
    "# 선형 모델 학습\n",
    "for i in range(1000):\n",
    "    rand_index = np.random.choice(len(iris_2d), size=batch_size)\n",
    "    rand_x = iris_2d[rand_index]\n",
    "    rand_x1 = np.array([[x[0]] for x in rand_x])\n",
    "    rand_x2 = np.array([[x[1]] for x in rand_x])\n",
    "    rand_y = np.array([[y] for y in binary_target[rand_index]])\n",
    "    \n",
    "    sess.run(train_step, feed_dict={x1_data:rand_x1, x2_data:rand_x2, y_target:rand_y})\n",
    "    \n",
    "    if (i+1) % 200 == 0:\n",
    "        print('Step #' + str(i+1) + ' A = ' + str(sess.run(A)) + ', b = ' + str(sess.run(b)))"
   ]
  },
  {
   "cell_type": "code",
   "execution_count": 10,
   "metadata": {},
   "outputs": [
    {
     "data": {
      "image/png": "[encoded data removed]",
      "text/plain": [
       "<matplotlib.figure.Figure at 0x24623a1acf8>"
      ]
     },
     "metadata": {},
     "output_type": "display_data"
    }
   ],
   "source": [
    "[[slope]] = sess.run(A)\n",
    "[[intercept]] = sess.run(b)\n",
    "\n",
    "x = np.linspace(0, 3, num=50)\n",
    "ablineValues = []\n",
    "\n",
    "for i in x:\n",
    "    ablineValues.append(slope * i + intercept)\n",
    "    \n",
    "setosa_x = [a[1] for i, a in enumerate(iris_2d) if binary_target[i]==1]\n",
    "setosa_y = [a[0] for i, a in enumerate(iris_2d) if binary_target[i]==1]\n",
    "\n",
    "non_setosa_x = [a[1] for i, a in enumerate(iris_2d) if binary_target[i]==0]\n",
    "non_setosa_y = [a[0] for i, a in enumerate(iris_2d) if binary_target[i]==0]\n",
    "\n",
    "plt.plot(setosa_x, setosa_y, 'rx', ms=10, mew=2, label='setosa')\n",
    "plt.plot(non_setosa_x, non_setosa_y, 'ro', label='Non_setosa')\n",
    "plt.plot(x, ablineValues, 'b-')\n",
    "plt.xlim([0.0, 2.7])\n",
    "plt.ylim([0.0, 7.1])\n",
    "plt.suptitle('Linear Separator For I.setosa', fontsize=20)\n",
    "plt.xlabel('Petal Length')\n",
    "plt.ylabel('Petal Width')\n",
    "plt.legend(loc='lower right')\n",
    "plt.show()"
   ]
  }
 ],
 "metadata": {
  "kernelspec": {
   "display_name": "Python 3",
   "language": "python",
   "name": "python3"
  },
  "language_info": {
   "codemirror_mode": {
    "name": "ipython",
    "version": 3
   },
   "file_extension": ".py",
   "mimetype": "text/x-python",
   "name": "python",
   "nbconvert_exporter": "python",
   "pygments_lexer": "ipython3",
   "version": "3.6.4"
  }
 },
 "nbformat": 4,
 "nbformat_minor": 2
}
