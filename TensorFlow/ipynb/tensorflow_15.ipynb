{
 "cells": [
  {
   "cell_type": "markdown",
   "metadata": {},
   "source": [
    "# TensorFlow"
   ]
  },
  {
   "cell_type": "markdown",
   "metadata": {},
   "source": [
    "참고 : TensorFlow Machine Learning Cookbook"
   ]
  },
  {
   "cell_type": "code",
   "execution_count": 1,
   "metadata": {},
   "outputs": [
    {
     "name": "stderr",
     "output_type": "stream",
     "text": [
      "C:\\Users\\GIGABYTE\\Anaconda3\\lib\\site-packages\\h5py\\__init__.py:36: FutureWarning: Conversion of the second argument of issubdtype from `float` to `np.floating` is deprecated. In future, it will be treated as `np.float64 == np.dtype(float).type`.\n",
      "  from ._conv import register_converters as _register_converters\n"
     ]
    }
   ],
   "source": [
    "import tensorflow as tf\n",
    "sess = tf.Session()"
   ]
  },
  {
   "cell_type": "code",
   "execution_count": 2,
   "metadata": {},
   "outputs": [],
   "source": [
    "import numpy as np\n",
    "import matplotlib.pyplot as plt"
   ]
  },
  {
   "cell_type": "markdown",
   "metadata": {},
   "source": [
    "### 선형 회귀로 축소\n",
    "> 선형 회귀 최적화에도 서포트 벡터 머신을 사용할 수 있다.\n",
    "> 최대 마진 개념을 선형 회귀 최적화에 그래도 적용할 수 있다. \n",
    "> 분류 사이를 구분하는 마진을 최대화하는 대신, 가장 많은 (x,y) 점을 포함하게 마진을 최대화 한다."
   ]
  },
  {
   "cell_type": "code",
   "execution_count": 3,
   "metadata": {},
   "outputs": [
    {
     "name": "stdout",
     "output_type": "stream",
     "text": [
      "-----------------------------------\n",
      "Generation : 50\n",
      "A = [[2.278633]] , b = [[2.5817409]]\n",
      "Train Loss = 0.61779404\n",
      "Test Loss = 0.6575619\n",
      "-----------------------------------\n",
      "Generation : 100\n",
      "A = [[1.683433]] , b = [[3.577741]]\n",
      "Train Loss = 0.26626378\n",
      "Test Loss = 0.32205105\n",
      "-----------------------------------\n",
      "Generation : 150\n",
      "A = [[1.331533]] , b = [[4.2557406]]\n",
      "Train Loss = 0.11080063\n",
      "Test Loss = 0.1603795\n",
      "-----------------------------------\n",
      "Generation : 200\n",
      "A = [[1.1267828]] , b = [[4.4657397]]\n",
      "Train Loss = 0.086844705\n",
      "Test Loss = 0.1055491\n"
     ]
    }
   ],
   "source": [
    "# 데이터 로드\n",
    "from sklearn import datasets\n",
    "iris = datasets.load_iris()\n",
    "\n",
    "x_vals = np.array([x[3] for x in iris.data])\n",
    "y_vals = np.array([y[0] for y in iris.data])\n",
    "\n",
    "\n",
    "# 데이터 분할\n",
    "train_indices = np.random.choice(len(x_vals), round(len(x_vals)*0.8), replace=False)\n",
    "test_indices = np.array(list(set(range(len(x_vals))) - set(train_indices)))\n",
    "\n",
    "x_vals_train = x_vals[train_indices]\n",
    "x_vals_test = x_vals[test_indices]\n",
    "y_vals_train = y_vals[train_indices]\n",
    "y_vals_test = y_vals[test_indices]\n",
    "\n",
    "\n",
    "# 일괄 작업 크기 선언\n",
    "batch_size = 50\n",
    "\n",
    "\n",
    "# 플레이스홀더 및 변수 선언\n",
    "x_data = tf.placeholder(shape=[None,1], dtype=tf.float32)\n",
    "y_target = tf.placeholder(shape=[None,1], dtype=tf.float32)\n",
    "\n",
    "A = tf.Variable(tf.random_normal(shape=[1,1]))\n",
    "b = tf.Variable(tf.random_normal(shape=[1,1]))\n",
    "\n",
    "\n",
    "# 선형 모델 생성\n",
    "model_output = tf.add(tf.matmul(x_data, A), b)\n",
    "\n",
    "\n",
    "# 비용 함수 선언\n",
    "epsilon = tf.constant([0.5])\n",
    "loss = tf.reduce_mean(tf.maximum(0., tf.subtract(tf.abs(tf.subtract(model_output, y_target)), epsilon)))\n",
    "\n",
    "\n",
    "# 최적화 함수 생성\n",
    "my_opt = tf.train.GradientDescentOptimizer(0.075)\n",
    "train_step = my_opt.minimize(loss)\n",
    "\n",
    "\n",
    "# 변수 초기화\n",
    "init = tf.global_variables_initializer()\n",
    "sess.run(init)\n",
    "\n",
    "\n",
    "# 학습\n",
    "train_loss = []\n",
    "test_loss = []\n",
    "\n",
    "for i in range(200):\n",
    "    rand_index = np.random.choice(len(x_vals_train), size=batch_size)\n",
    "    rand_x = np.transpose([x_vals_train[rand_index]])\n",
    "    rand_y = np.transpose([y_vals_train[rand_index]])\n",
    "    sess.run(train_step, feed_dict={x_data:rand_x, y_target:rand_y})\n",
    "    \n",
    "    temp_train_loss = sess.run(loss, feed_dict={x_data:np.transpose([x_vals_train]), y_target:np.transpose([y_vals_train])})\n",
    "    train_loss.append(temp_train_loss)\n",
    "    \n",
    "    temp_test_loss = sess.run(loss, feed_dict={x_data:np.transpose([x_vals_test]), y_target:np.transpose([y_vals_test])})\n",
    "    test_loss.append(temp_test_loss)\n",
    "    \n",
    "    if (i+1) % 50 == 0:\n",
    "        print('-------' * 5)\n",
    "        print('Generation : {}'.format(str(i+1)))\n",
    "        print('A = {} , b = {}'.format(str(sess.run(A)), str(sess.run(b))))\n",
    "        print('Train Loss = {}'.format(str(temp_train_loss)))\n",
    "        print('Test Loss = {}'.format(str(temp_test_loss)))"
   ]
  },
  {
   "cell_type": "code",
   "execution_count": 4,
   "metadata": {},
   "outputs": [
    {
     "data": {
      "image/png": "[encoded data removed]",
      "text/plain": [
       "<matplotlib.figure.Figure at 0x1f083fa9240>"
      ]
     },
     "metadata": {},
     "output_type": "display_data"
    }
   ],
   "source": [
    "[[slope]] = sess.run(A)\n",
    "[[y_intercept]] = sess.run(b)\n",
    "[width] = sess.run(epsilon)\n",
    "\n",
    "best_fit = []\n",
    "best_fit_upper = []\n",
    "best_fit_lower = []\n",
    "\n",
    "for i in x_vals:\n",
    "    best_fit.append(slope * i + y_intercept)\n",
    "    best_fit_upper.append(slope * i + y_intercept + width)\n",
    "    best_fit_lower.append(slope * i + y_intercept - width)\n",
    "    \n",
    "    \n",
    "plt.plot(x_vals, y_vals, 'o', label='Data Points')\n",
    "plt.plot(x_vals, best_fit, 'r-', label='SVM Regression Line', linewidth=3)\n",
    "plt.plot(x_vals, best_fit_upper, 'r--', linewidth=2)\n",
    "plt.plot(x_vals, best_fit_lower, 'r--', linewidth=2)\n",
    "plt.ylim([0, 10])\n",
    "plt.legend(loc='lower right')\n",
    "plt.title('Sepal Length vs Petal Width')\n",
    "plt.xlabel('Petal Width')\n",
    "plt.ylabel('Sepal Length')\n",
    "plt.show()"
   ]
  },
  {
   "cell_type": "code",
   "execution_count": 5,
   "metadata": {},
   "outputs": [
    {
     "data": {
      "image/png": "[encoded data removed]",
      "text/plain": [
       "<matplotlib.figure.Figure at 0x1f083fa1048>"
      ]
     },
     "metadata": {},
     "output_type": "display_data"
    }
   ],
   "source": [
    "plt.plot(train_loss, 'k-', label='Train Set Loss')\n",
    "plt.plot(test_loss, 'r--', label='Test Set Loss')\n",
    "plt.title('L2 Loss per Generation')\n",
    "plt.xlabel('Generation')\n",
    "plt.ylabel('L2 Loss')\n",
    "plt.legend(loc='upper right')\n",
    "plt.show()"
   ]
  }
 ],
 "metadata": {
  "kernelspec": {
   "display_name": "Python 3",
   "language": "python",
   "name": "python3"
  },
  "language_info": {
   "codemirror_mode": {
    "name": "ipython",
    "version": 3
   },
   "file_extension": ".py",
   "mimetype": "text/x-python",
   "name": "python",
   "nbconvert_exporter": "python",
   "pygments_lexer": "ipython3",
   "version": "3.6.4"
  }
 },
 "nbformat": 4,
 "nbformat_minor": 2
}
