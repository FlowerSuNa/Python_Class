{
 "cells": [
  {
   "cell_type": "markdown",
   "metadata": {},
   "source": [
    "# TensorFlow"
   ]
  },
  {
   "cell_type": "markdown",
   "metadata": {},
   "source": [
    "참고 : TensorFlow Machine Learning Cookbook"
   ]
  },
  {
   "cell_type": "code",
   "execution_count": 1,
   "metadata": {},
   "outputs": [
    {
     "name": "stderr",
     "output_type": "stream",
     "text": [
      "C:\\Users\\GIGABYTE\\Anaconda3\\lib\\site-packages\\h5py\\__init__.py:36: FutureWarning: Conversion of the second argument of issubdtype from `float` to `np.floating` is deprecated. In future, it will be treated as `np.float64 == np.dtype(float).type`.\n",
      "  from ._conv import register_converters as _register_converters\n"
     ]
    }
   ],
   "source": [
    "import tensorflow as tf\n",
    "sess = tf.Session()"
   ]
  },
  {
   "cell_type": "code",
   "execution_count": 2,
   "metadata": {},
   "outputs": [],
   "source": [
    "import numpy as np\n",
    "import matplotlib.pyplot as plt"
   ]
  },
  {
   "cell_type": "markdown",
   "metadata": {},
   "source": [
    "### 최근접 이웃 알고리즘\n",
    "> 학습셋을 모델로 간주하고 새로운 점이 기존 학습셋의 점들과 얼마나 가까운지에 따라 예측한다. \n",
    "> 가장 가까운 학습셋 데이터 k개의 가중 평균값을 사용하는 것이 일반적이다. \n",
    "> 학습 데이터셋과 이에 해당하는 대상 값이 주어졌을 때 새로운 점에 대한 예측 값은 가장 가까운 학습 데이터셋을 이용해 구할 수 있다. \n",
    "> 구체적인 예측 방식은 회귀를 하는지, 분휴를 하는지에 따라 달라진다."
   ]
  },
  {
   "cell_type": "code",
   "execution_count": 3,
   "metadata": {},
   "outputs": [
    {
     "name": "stdout",
     "output_type": "stream",
     "text": [
      "Batch #1 MSE : 10.665\n"
     ]
    }
   ],
   "source": [
    "# 데이터 로드\n",
    "import requests\n",
    "housing_url = 'https://archive.ics.uci.edu/ml/machine-learning-databases/housing/housing.data'\n",
    "housing_header = ['CRIM', 'ZN', 'INDUS', 'CHAS', 'NOX', 'RM', 'AGE', 'DIS', 'RAD', 'TAX', \n",
    "                  'PTRATIO', 'B', 'LSTAT', 'MEDV']\n",
    "cols_used = ['CRIM', 'INDUS', 'NOX', 'RM', 'AGE', 'DIS', 'TAX', 'PTRATIO', 'B', 'LSTAT']\n",
    "num_features = len(cols_used)\n",
    "\n",
    "housing_file = requests.get(housing_url)\n",
    "housing_data = [[float(x) for x in y.split(' ') if len(x)>=1] \n",
    "                 for y in housing_file.text.split('\\n') if len(y)>=1]\n",
    "\n",
    "x_vals = np.array([[x for i, x in enumerate(y) if housing_header[i] in cols_used] for y in housing_data])\n",
    "x_vals = (x_vals - x_vals.min(0)) / x_vals.ptp(0) # 정규화\n",
    "y_vals = np.transpose([np.array([y[13] for y in housing_data])])\n",
    "\n",
    "\n",
    "# 데이터 분할\n",
    "train_indices = np.random.choice(len(x_vals), round(len(x_vals)*0.8), replace=False)\n",
    "test_indices = np.array(list(set(range(len(x_vals))) - set(train_indices)))\n",
    "\n",
    "x_vals_train = x_vals[train_indices]\n",
    "x_vals_test = x_vals[test_indices]\n",
    "y_vals_train = y_vals[train_indices]\n",
    "y_vals_test = y_vals[test_indices]\n",
    "\n",
    "\n",
    "# k 값 및 일괄 작업 크기 선언\n",
    "k = 4\n",
    "batch_size = len(x_vals_test)\n",
    "\n",
    "\n",
    "# 플레이스홀더 및 변수 선언\n",
    "x_data_train = tf.placeholder(shape=[None,num_features], dtype=tf.float32)\n",
    "x_data_test = tf.placeholder(shape=[None,num_features], dtype=tf.float32)\n",
    "y_target_train = tf.placeholder(shape=[None,1], dtype=tf.float32)\n",
    "y_target_test = tf.placeholder(shape=[None,1], dtype=tf.float32)\n",
    "\n",
    "\n",
    "# L1 거리 함수 생성\n",
    "distance = tf.reduce_sum(tf.abs(tf.subtract(x_data_train, tf.expand_dims(x_data_test,1))), axis=2)\n",
    "\n",
    "# L2 거리 함수\n",
    "# distance = tf.sqrt(tf.reduce_sum(tf.square(tf.subtract(s_data_train, tf.expand_dims(x_data_test,1))), reduction_indices=1))\n",
    "\n",
    "\n",
    "# 예측 함수 선언\n",
    "top_k_xvals, top_k_indices = tf.nn.top_k(tf.negative(distance), k=k)\n",
    "x_sums = tf.expand_dims(tf.reduce_sum(top_k_xvals, 1), 1)\n",
    "x_sums_repeated = tf.matmul(x_sums, tf.ones([1,k], tf.float32))\n",
    "x_vals_weights = tf.expand_dims(tf.div(top_k_xvals, x_sums_repeated), 1)\n",
    "\n",
    "top_k_yvals = tf.gather(y_target_train, top_k_indices)\n",
    "prediction = tf.squeeze(tf.matmul(x_vals_weights, top_k_yvals), axis=[1])\n",
    "\n",
    "mse = tf.div(tf.reduce_sum(tf.square(tf.subtract(prediction, y_target_test))), batch_size)\n",
    "\n",
    "\n",
    "# 학습\n",
    "num_loops = int(np.ceil(len(x_vals_test) / batch_size))\n",
    "\n",
    "for i in range(num_loops):\n",
    "    min_index = i * batch_size\n",
    "    max_index = min((i+1) * batch_size, len(x_vals_train))\n",
    "    \n",
    "    x_batch = x_vals_test[min_index:max_index]\n",
    "    y_batch = y_vals_test[min_index:max_index]\n",
    "    \n",
    "    predictions = sess.run(prediction, feed_dict={x_data_train:x_vals_train, \n",
    "                                                  x_data_test:x_batch,\n",
    "                                                  y_target_train:y_vals_train,\n",
    "                                                  y_target_test:y_batch})\n",
    "    \n",
    "    batch_mse = sess.run(mse, feed_dict={x_data_train:x_vals_train,\n",
    "                                         x_data_test:x_batch,\n",
    "                                         y_target_train:y_vals_train,\n",
    "                                         y_target_test:y_batch})\n",
    "    \n",
    "    print('Batch #{} MSE : {}'.format(str(i+1), str(np.round(batch_mse,3))))"
   ]
  },
  {
   "cell_type": "code",
   "execution_count": 4,
   "metadata": {},
   "outputs": [
    {
     "data": {
      "image/png": "[encoded data removed]",
      "text/plain": [
       "<matplotlib.figure.Figure at 0x15407289f28>"
      ]
     },
     "metadata": {},
     "output_type": "display_data"
    }
   ],
   "source": [
    "bins = np.linspace(5, 50, 45)\n",
    "\n",
    "plt.hist(predictions, bins, alpha=0.5, label='Prediction')\n",
    "plt.hist(y_batch, bins, alpha=0.5, label='Actual')\n",
    "plt.title('Histogram of Predicted and Actual Values')\n",
    "plt.xlabel('Med Home Value in $1,000s')\n",
    "plt.ylabel('Frequency')\n",
    "plt.legend(loc='upper right')\n",
    "plt.show()"
   ]
  },
  {
   "cell_type": "markdown",
   "metadata": {},
   "source": [
    "> 어려운 일 한가지는 최적의 k값을 정하는 것이다. \n",
    "> 여러 가지 k 값에 대해 교차 검증을 진행해 보면 확인할 수 있다. <br>\n",
    "> K-NN을 사용할 때 거리를 가중치에 반영했다.\n",
    "> 거리 제곱의 역수를 가중치로 사용하는 방법도 있다."
   ]
  },
  {
   "cell_type": "markdown",
   "metadata": {},
   "source": [
    "### 혼합 거리 함수 계산"
   ]
  },
  {
   "cell_type": "code",
   "execution_count": 5,
   "metadata": {},
   "outputs": [
    {
     "name": "stdout",
     "output_type": "stream",
     "text": [
      "Batch #1 MSE : 10.389\n"
     ]
    }
   ],
   "source": [
    "# 대각 가중 행렬 생성\n",
    "weight_diagonal = x_vals.std(0)\n",
    "weight_matrix = tf.cast(tf.diag(weight_diagonal), dtype=tf.float32)\n",
    "\n",
    "\n",
    "# 거리 함수 선언\n",
    "subtraction_term = tf.subtract(x_data_train, tf.expand_dims(x_data_test,1))\n",
    "first_product = tf.matmul(subtraction_term, tf.tile(tf.expand_dims(weight_matrix, 0), [batch_size, 1, 1]))\n",
    "second_product = tf.matmul(first_product, tf.transpose(subtraction_term, perm=[0, 2, 1]))\n",
    "distance = tf.sqrt(tf.matrix_diag_part(second_product))\n",
    "\n",
    "\n",
    "# 예측 함수 선언\n",
    "top_k_xvals, top_k_indices = tf.nn.top_k(tf.negative(distance), k=k)\n",
    "x_sums = tf.expand_dims(tf.reduce_sum(top_k_xvals, 1), 1)\n",
    "x_sums_repeated = tf.matmul(x_sums, tf.ones([1,k], tf.float32))\n",
    "x_vals_weights = tf.expand_dims(tf.div(top_k_xvals, x_sums_repeated), 1)\n",
    "\n",
    "top_k_yvals = tf.gather(y_target_train, top_k_indices)\n",
    "prediction = tf.squeeze(tf.matmul(x_vals_weights, top_k_yvals), axis=[1])\n",
    "\n",
    "mse = tf.div(tf.reduce_sum(tf.square(tf.subtract(prediction, y_target_test))), batch_size)\n",
    "\n",
    "\n",
    "# 학습\n",
    "num_loops = int(np.ceil(len(x_vals_test) / batch_size))\n",
    "\n",
    "for i in range(num_loops):\n",
    "    min_index = i * batch_size\n",
    "    max_index = min((i+1) * batch_size, len(x_vals_train))\n",
    "    \n",
    "    x_batch = x_vals_test[min_index:max_index]\n",
    "    y_batch = y_vals_test[min_index:max_index]\n",
    "    \n",
    "    predictions = sess.run(prediction, feed_dict={x_data_train:x_vals_train, \n",
    "                                                  x_data_test:x_batch,\n",
    "                                                  y_target_train:y_vals_train,\n",
    "                                                  y_target_test:y_batch})\n",
    "    \n",
    "    batch_mse = sess.run(mse, feed_dict={x_data_train:x_vals_train,\n",
    "                                         x_data_test:x_batch,\n",
    "                                         y_target_train:y_vals_train,\n",
    "                                         y_target_test:y_batch})\n",
    "    \n",
    "    print('Batch #{} MSE : {}'.format(str(i+1), str(np.round(batch_mse,3))))"
   ]
  },
  {
   "cell_type": "code",
   "execution_count": 6,
   "metadata": {},
   "outputs": [
    {
     "data": {
      "image/png": "[encoded data removed]",
      "text/plain": [
       "<matplotlib.figure.Figure at 0x15401d64dd8>"
      ]
     },
     "metadata": {},
     "output_type": "display_data"
    }
   ],
   "source": [
    "bins = np.linspace(5, 50, 45)\n",
    "\n",
    "plt.hist(predictions, bins, alpha=0.5, label='Prediction')\n",
    "plt.hist(y_batch, bins, alpha=0.5, label='Actual')\n",
    "plt.title('Histogram of Predicted and Actual Values')\n",
    "plt.xlabel('Med Home Value in $1,000s')\n",
    "plt.ylabel('Frequency')\n",
    "plt.legend(loc='upper right')\n",
    "plt.show()"
   ]
  }
 ],
 "metadata": {
  "kernelspec": {
   "display_name": "Python 3",
   "language": "python",
   "name": "python3"
  },
  "language_info": {
   "codemirror_mode": {
    "name": "ipython",
    "version": 3
   },
   "file_extension": ".py",
   "mimetype": "text/x-python",
   "name": "python",
   "nbconvert_exporter": "python",
   "pygments_lexer": "ipython3",
   "version": "3.6.4"
  }
 },
 "nbformat": 4,
 "nbformat_minor": 2
}
